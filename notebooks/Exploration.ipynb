{
 "cells": [
  {
   "cell_type": "markdown",
   "id": "a30f5d78",
   "metadata": {},
   "source": [
    "# Task 1 - Exploration of customer purchasing behavior"
   ]
  },
  {
   "cell_type": "markdown",
   "id": "d58b51a0",
   "metadata": {},
   "source": [
    "### Libraries to import:"
   ]
  },
  {
   "cell_type": "code",
   "execution_count": 1,
   "id": "e51710ba",
   "metadata": {},
   "outputs": [],
   "source": [
    "import warnings\n",
    "warnings.filterwarnings(\"ignore\")\n",
    "#Data Manipulation and Treatment\n",
    "import numpy as np\n",
    "import pandas as pd\n",
    "from datetime import datetime\n",
    "#Plotting and Visualizations\n",
    "import matplotlib.pyplot as plt\n",
    "%matplotlib inline \n",
    "import seaborn as sns\n",
    "from scipy import stats\n",
    "import itertools\n",
    "#dvc\n",
    "import dvc.api\n",
    "import mlflow\n",
    "#utils \n",
    "import os\n",
    "import sys\n",
    "sys.path.append(os.path.abspath(os.path.join('../scripts')))\n",
    "import plot"
   ]
  },
  {
   "cell_type": "code",
   "execution_count": 2,
   "id": "1e038ac1",
   "metadata": {},
   "outputs": [],
   "source": [
    "def str_to_date(date):\n",
    "    return datetime.strptime(date, '%Y-%m-%d').date()"
   ]
  },
  {
   "cell_type": "markdown",
   "id": "975bc793",
   "metadata": {},
   "source": [
    "### Load the datasets "
   ]
  },
  {
   "cell_type": "code",
   "execution_count": 3,
   "id": "cd76c880",
   "metadata": {},
   "outputs": [],
   "source": [
    "def get_data(tag, Fpath, repo='G:/10_academy/Week_3/solution/Pharmaceutical-Sales-Prediction'):\n",
    "    rev = tag\n",
    "    path=Fpath\n",
    "    data_url = dvc.api.get_url(path=path, repo=repo, rev=rev)\n",
    "    df = pd.read_csv(data_url)\n",
    "    return df"
   ]
  },
  {
   "cell_type": "code",
   "execution_count": 4,
   "id": "7fdac447",
   "metadata": {},
   "outputs": [],
   "source": [
    "#The training Set\n",
    "df_train=get_data('train_v1','data/train.csv')"
   ]
  },
  {
   "cell_type": "code",
   "execution_count": 5,
   "id": "f4b3697f",
   "metadata": {},
   "outputs": [],
   "source": [
    "#The training Set\n",
    "df_test=get_data('test_v1','data/test.csv')"
   ]
  },
  {
   "cell_type": "code",
   "execution_count": 6,
   "id": "600b34f5",
   "metadata": {},
   "outputs": [],
   "source": [
    "#The store Set\n",
    "df_store=get_data('v1','data/store.csv')"
   ]
  },
  {
   "cell_type": "markdown",
   "id": "efd21d14",
   "metadata": {},
   "source": [
    "#### A quick glimpse at the data on hand:"
   ]
  },
  {
   "cell_type": "code",
   "execution_count": 7,
   "id": "fea91ef1",
   "metadata": {},
   "outputs": [
    {
     "data": {
      "text/html": [
       "<div>\n",
       "<style scoped>\n",
       "    .dataframe tbody tr th:only-of-type {\n",
       "        vertical-align: middle;\n",
       "    }\n",
       "\n",
       "    .dataframe tbody tr th {\n",
       "        vertical-align: top;\n",
       "    }\n",
       "\n",
       "    .dataframe thead th {\n",
       "        text-align: right;\n",
       "    }\n",
       "</style>\n",
       "<table border=\"1\" class=\"dataframe\">\n",
       "  <thead>\n",
       "    <tr style=\"text-align: right;\">\n",
       "      <th></th>\n",
       "      <th>Store</th>\n",
       "      <th>DayOfWeek</th>\n",
       "      <th>Date</th>\n",
       "      <th>Sales</th>\n",
       "      <th>Customers</th>\n",
       "      <th>Open</th>\n",
       "      <th>Promo</th>\n",
       "      <th>StateHoliday</th>\n",
       "      <th>SchoolHoliday</th>\n",
       "    </tr>\n",
       "  </thead>\n",
       "  <tbody>\n",
       "    <tr>\n",
       "      <th>0</th>\n",
       "      <td>1</td>\n",
       "      <td>5</td>\n",
       "      <td>2015-07-31</td>\n",
       "      <td>5263</td>\n",
       "      <td>555</td>\n",
       "      <td>1</td>\n",
       "      <td>1</td>\n",
       "      <td>0</td>\n",
       "      <td>1</td>\n",
       "    </tr>\n",
       "    <tr>\n",
       "      <th>1</th>\n",
       "      <td>2</td>\n",
       "      <td>5</td>\n",
       "      <td>2015-07-31</td>\n",
       "      <td>6064</td>\n",
       "      <td>625</td>\n",
       "      <td>1</td>\n",
       "      <td>1</td>\n",
       "      <td>0</td>\n",
       "      <td>1</td>\n",
       "    </tr>\n",
       "    <tr>\n",
       "      <th>2</th>\n",
       "      <td>3</td>\n",
       "      <td>5</td>\n",
       "      <td>2015-07-31</td>\n",
       "      <td>8314</td>\n",
       "      <td>821</td>\n",
       "      <td>1</td>\n",
       "      <td>1</td>\n",
       "      <td>0</td>\n",
       "      <td>1</td>\n",
       "    </tr>\n",
       "    <tr>\n",
       "      <th>3</th>\n",
       "      <td>4</td>\n",
       "      <td>5</td>\n",
       "      <td>2015-07-31</td>\n",
       "      <td>13995</td>\n",
       "      <td>1498</td>\n",
       "      <td>1</td>\n",
       "      <td>1</td>\n",
       "      <td>0</td>\n",
       "      <td>1</td>\n",
       "    </tr>\n",
       "    <tr>\n",
       "      <th>4</th>\n",
       "      <td>5</td>\n",
       "      <td>5</td>\n",
       "      <td>2015-07-31</td>\n",
       "      <td>4822</td>\n",
       "      <td>559</td>\n",
       "      <td>1</td>\n",
       "      <td>1</td>\n",
       "      <td>0</td>\n",
       "      <td>1</td>\n",
       "    </tr>\n",
       "  </tbody>\n",
       "</table>\n",
       "</div>"
      ],
      "text/plain": [
       "   Store  DayOfWeek        Date  Sales  Customers  Open  Promo StateHoliday  \\\n",
       "0      1          5  2015-07-31   5263        555     1      1            0   \n",
       "1      2          5  2015-07-31   6064        625     1      1            0   \n",
       "2      3          5  2015-07-31   8314        821     1      1            0   \n",
       "3      4          5  2015-07-31  13995       1498     1      1            0   \n",
       "4      5          5  2015-07-31   4822        559     1      1            0   \n",
       "\n",
       "   SchoolHoliday  \n",
       "0              1  \n",
       "1              1  \n",
       "2              1  \n",
       "3              1  \n",
       "4              1  "
      ]
     },
     "execution_count": 7,
     "metadata": {},
     "output_type": "execute_result"
    }
   ],
   "source": [
    "df_train.head() "
   ]
  },
  {
   "cell_type": "code",
   "execution_count": 8,
   "id": "9b552601",
   "metadata": {},
   "outputs": [
    {
     "data": {
      "text/html": [
       "<div>\n",
       "<style scoped>\n",
       "    .dataframe tbody tr th:only-of-type {\n",
       "        vertical-align: middle;\n",
       "    }\n",
       "\n",
       "    .dataframe tbody tr th {\n",
       "        vertical-align: top;\n",
       "    }\n",
       "\n",
       "    .dataframe thead th {\n",
       "        text-align: right;\n",
       "    }\n",
       "</style>\n",
       "<table border=\"1\" class=\"dataframe\">\n",
       "  <thead>\n",
       "    <tr style=\"text-align: right;\">\n",
       "      <th></th>\n",
       "      <th>Store</th>\n",
       "      <th>DayOfWeek</th>\n",
       "      <th>Date</th>\n",
       "      <th>Sales</th>\n",
       "      <th>Customers</th>\n",
       "      <th>Open</th>\n",
       "      <th>Promo</th>\n",
       "      <th>StateHoliday</th>\n",
       "      <th>SchoolHoliday</th>\n",
       "    </tr>\n",
       "  </thead>\n",
       "  <tbody>\n",
       "    <tr>\n",
       "      <th>1017204</th>\n",
       "      <td>1111</td>\n",
       "      <td>2</td>\n",
       "      <td>2013-01-01</td>\n",
       "      <td>0</td>\n",
       "      <td>0</td>\n",
       "      <td>0</td>\n",
       "      <td>0</td>\n",
       "      <td>a</td>\n",
       "      <td>1</td>\n",
       "    </tr>\n",
       "    <tr>\n",
       "      <th>1017205</th>\n",
       "      <td>1112</td>\n",
       "      <td>2</td>\n",
       "      <td>2013-01-01</td>\n",
       "      <td>0</td>\n",
       "      <td>0</td>\n",
       "      <td>0</td>\n",
       "      <td>0</td>\n",
       "      <td>a</td>\n",
       "      <td>1</td>\n",
       "    </tr>\n",
       "    <tr>\n",
       "      <th>1017206</th>\n",
       "      <td>1113</td>\n",
       "      <td>2</td>\n",
       "      <td>2013-01-01</td>\n",
       "      <td>0</td>\n",
       "      <td>0</td>\n",
       "      <td>0</td>\n",
       "      <td>0</td>\n",
       "      <td>a</td>\n",
       "      <td>1</td>\n",
       "    </tr>\n",
       "    <tr>\n",
       "      <th>1017207</th>\n",
       "      <td>1114</td>\n",
       "      <td>2</td>\n",
       "      <td>2013-01-01</td>\n",
       "      <td>0</td>\n",
       "      <td>0</td>\n",
       "      <td>0</td>\n",
       "      <td>0</td>\n",
       "      <td>a</td>\n",
       "      <td>1</td>\n",
       "    </tr>\n",
       "    <tr>\n",
       "      <th>1017208</th>\n",
       "      <td>1115</td>\n",
       "      <td>2</td>\n",
       "      <td>2013-01-01</td>\n",
       "      <td>0</td>\n",
       "      <td>0</td>\n",
       "      <td>0</td>\n",
       "      <td>0</td>\n",
       "      <td>a</td>\n",
       "      <td>1</td>\n",
       "    </tr>\n",
       "  </tbody>\n",
       "</table>\n",
       "</div>"
      ],
      "text/plain": [
       "         Store  DayOfWeek        Date  Sales  Customers  Open  Promo  \\\n",
       "1017204   1111          2  2013-01-01      0          0     0      0   \n",
       "1017205   1112          2  2013-01-01      0          0     0      0   \n",
       "1017206   1113          2  2013-01-01      0          0     0      0   \n",
       "1017207   1114          2  2013-01-01      0          0     0      0   \n",
       "1017208   1115          2  2013-01-01      0          0     0      0   \n",
       "\n",
       "        StateHoliday  SchoolHoliday  \n",
       "1017204            a              1  \n",
       "1017205            a              1  \n",
       "1017206            a              1  \n",
       "1017207            a              1  \n",
       "1017208            a              1  "
      ]
     },
     "execution_count": 8,
     "metadata": {},
     "output_type": "execute_result"
    }
   ],
   "source": [
    "df_train.tail()"
   ]
  },
  {
   "cell_type": "code",
   "execution_count": 9,
   "id": "c6c5557b",
   "metadata": {},
   "outputs": [
    {
     "name": "stdout",
     "output_type": "stream",
     "text": [
      "The Train dataset has 1017209 Rows and 9 Variables\n"
     ]
    },
    {
     "data": {
      "text/plain": [
       "(Store             int64\n",
       " DayOfWeek         int64\n",
       " Date             object\n",
       " Sales             int64\n",
       " Customers         int64\n",
       " Open              int64\n",
       " Promo             int64\n",
       " StateHoliday     object\n",
       " SchoolHoliday     int64\n",
       " dtype: object,\n",
       " None)"
      ]
     },
     "execution_count": 9,
     "metadata": {},
     "output_type": "execute_result"
    }
   ],
   "source": [
    "df_train.dtypes,print (\"The Train dataset has {} Rows and {} Variables\".format(str(df_train.shape[0]),str(df_train.shape[1])))"
   ]
  },
  {
   "cell_type": "code",
   "execution_count": null,
   "id": "7f4f79c6",
   "metadata": {},
   "outputs": [],
   "source": []
  },
  {
   "cell_type": "code",
   "execution_count": 10,
   "id": "38fcde6b",
   "metadata": {},
   "outputs": [
    {
     "data": {
      "text/html": [
       "<div>\n",
       "<style scoped>\n",
       "    .dataframe tbody tr th:only-of-type {\n",
       "        vertical-align: middle;\n",
       "    }\n",
       "\n",
       "    .dataframe tbody tr th {\n",
       "        vertical-align: top;\n",
       "    }\n",
       "\n",
       "    .dataframe thead th {\n",
       "        text-align: right;\n",
       "    }\n",
       "</style>\n",
       "<table border=\"1\" class=\"dataframe\">\n",
       "  <thead>\n",
       "    <tr style=\"text-align: right;\">\n",
       "      <th></th>\n",
       "      <th>Id</th>\n",
       "      <th>Store</th>\n",
       "      <th>DayOfWeek</th>\n",
       "      <th>Date</th>\n",
       "      <th>Open</th>\n",
       "      <th>Promo</th>\n",
       "      <th>StateHoliday</th>\n",
       "      <th>SchoolHoliday</th>\n",
       "    </tr>\n",
       "  </thead>\n",
       "  <tbody>\n",
       "    <tr>\n",
       "      <th>0</th>\n",
       "      <td>1</td>\n",
       "      <td>1</td>\n",
       "      <td>4</td>\n",
       "      <td>2015-09-17</td>\n",
       "      <td>1.0</td>\n",
       "      <td>1</td>\n",
       "      <td>0</td>\n",
       "      <td>0</td>\n",
       "    </tr>\n",
       "    <tr>\n",
       "      <th>1</th>\n",
       "      <td>2</td>\n",
       "      <td>3</td>\n",
       "      <td>4</td>\n",
       "      <td>2015-09-17</td>\n",
       "      <td>1.0</td>\n",
       "      <td>1</td>\n",
       "      <td>0</td>\n",
       "      <td>0</td>\n",
       "    </tr>\n",
       "    <tr>\n",
       "      <th>2</th>\n",
       "      <td>3</td>\n",
       "      <td>7</td>\n",
       "      <td>4</td>\n",
       "      <td>2015-09-17</td>\n",
       "      <td>1.0</td>\n",
       "      <td>1</td>\n",
       "      <td>0</td>\n",
       "      <td>0</td>\n",
       "    </tr>\n",
       "    <tr>\n",
       "      <th>3</th>\n",
       "      <td>4</td>\n",
       "      <td>8</td>\n",
       "      <td>4</td>\n",
       "      <td>2015-09-17</td>\n",
       "      <td>1.0</td>\n",
       "      <td>1</td>\n",
       "      <td>0</td>\n",
       "      <td>0</td>\n",
       "    </tr>\n",
       "    <tr>\n",
       "      <th>4</th>\n",
       "      <td>5</td>\n",
       "      <td>9</td>\n",
       "      <td>4</td>\n",
       "      <td>2015-09-17</td>\n",
       "      <td>1.0</td>\n",
       "      <td>1</td>\n",
       "      <td>0</td>\n",
       "      <td>0</td>\n",
       "    </tr>\n",
       "  </tbody>\n",
       "</table>\n",
       "</div>"
      ],
      "text/plain": [
       "   Id  Store  DayOfWeek        Date  Open  Promo StateHoliday  SchoolHoliday\n",
       "0   1      1          4  2015-09-17   1.0      1            0              0\n",
       "1   2      3          4  2015-09-17   1.0      1            0              0\n",
       "2   3      7          4  2015-09-17   1.0      1            0              0\n",
       "3   4      8          4  2015-09-17   1.0      1            0              0\n",
       "4   5      9          4  2015-09-17   1.0      1            0              0"
      ]
     },
     "execution_count": 10,
     "metadata": {},
     "output_type": "execute_result"
    }
   ],
   "source": [
    "df_test.head() "
   ]
  },
  {
   "cell_type": "code",
   "execution_count": 11,
   "id": "7360d519",
   "metadata": {},
   "outputs": [
    {
     "data": {
      "text/html": [
       "<div>\n",
       "<style scoped>\n",
       "    .dataframe tbody tr th:only-of-type {\n",
       "        vertical-align: middle;\n",
       "    }\n",
       "\n",
       "    .dataframe tbody tr th {\n",
       "        vertical-align: top;\n",
       "    }\n",
       "\n",
       "    .dataframe thead th {\n",
       "        text-align: right;\n",
       "    }\n",
       "</style>\n",
       "<table border=\"1\" class=\"dataframe\">\n",
       "  <thead>\n",
       "    <tr style=\"text-align: right;\">\n",
       "      <th></th>\n",
       "      <th>Id</th>\n",
       "      <th>Store</th>\n",
       "      <th>DayOfWeek</th>\n",
       "      <th>Date</th>\n",
       "      <th>Open</th>\n",
       "      <th>Promo</th>\n",
       "      <th>StateHoliday</th>\n",
       "      <th>SchoolHoliday</th>\n",
       "    </tr>\n",
       "  </thead>\n",
       "  <tbody>\n",
       "    <tr>\n",
       "      <th>41083</th>\n",
       "      <td>41084</td>\n",
       "      <td>1111</td>\n",
       "      <td>6</td>\n",
       "      <td>2015-08-01</td>\n",
       "      <td>1.0</td>\n",
       "      <td>0</td>\n",
       "      <td>0</td>\n",
       "      <td>0</td>\n",
       "    </tr>\n",
       "    <tr>\n",
       "      <th>41084</th>\n",
       "      <td>41085</td>\n",
       "      <td>1112</td>\n",
       "      <td>6</td>\n",
       "      <td>2015-08-01</td>\n",
       "      <td>1.0</td>\n",
       "      <td>0</td>\n",
       "      <td>0</td>\n",
       "      <td>0</td>\n",
       "    </tr>\n",
       "    <tr>\n",
       "      <th>41085</th>\n",
       "      <td>41086</td>\n",
       "      <td>1113</td>\n",
       "      <td>6</td>\n",
       "      <td>2015-08-01</td>\n",
       "      <td>1.0</td>\n",
       "      <td>0</td>\n",
       "      <td>0</td>\n",
       "      <td>0</td>\n",
       "    </tr>\n",
       "    <tr>\n",
       "      <th>41086</th>\n",
       "      <td>41087</td>\n",
       "      <td>1114</td>\n",
       "      <td>6</td>\n",
       "      <td>2015-08-01</td>\n",
       "      <td>1.0</td>\n",
       "      <td>0</td>\n",
       "      <td>0</td>\n",
       "      <td>0</td>\n",
       "    </tr>\n",
       "    <tr>\n",
       "      <th>41087</th>\n",
       "      <td>41088</td>\n",
       "      <td>1115</td>\n",
       "      <td>6</td>\n",
       "      <td>2015-08-01</td>\n",
       "      <td>1.0</td>\n",
       "      <td>0</td>\n",
       "      <td>0</td>\n",
       "      <td>1</td>\n",
       "    </tr>\n",
       "  </tbody>\n",
       "</table>\n",
       "</div>"
      ],
      "text/plain": [
       "          Id  Store  DayOfWeek        Date  Open  Promo StateHoliday  \\\n",
       "41083  41084   1111          6  2015-08-01   1.0      0            0   \n",
       "41084  41085   1112          6  2015-08-01   1.0      0            0   \n",
       "41085  41086   1113          6  2015-08-01   1.0      0            0   \n",
       "41086  41087   1114          6  2015-08-01   1.0      0            0   \n",
       "41087  41088   1115          6  2015-08-01   1.0      0            0   \n",
       "\n",
       "       SchoolHoliday  \n",
       "41083              0  \n",
       "41084              0  \n",
       "41085              0  \n",
       "41086              0  \n",
       "41087              1  "
      ]
     },
     "execution_count": 11,
     "metadata": {},
     "output_type": "execute_result"
    }
   ],
   "source": [
    "df_test.tail()"
   ]
  },
  {
   "cell_type": "code",
   "execution_count": 12,
   "id": "8f42780f",
   "metadata": {},
   "outputs": [
    {
     "name": "stdout",
     "output_type": "stream",
     "text": [
      "The Test dataset has 41088 Rows and 8 Variables\n"
     ]
    },
    {
     "data": {
      "text/plain": [
       "(Id                 int64\n",
       " Store              int64\n",
       " DayOfWeek          int64\n",
       " Date              object\n",
       " Open             float64\n",
       " Promo              int64\n",
       " StateHoliday      object\n",
       " SchoolHoliday      int64\n",
       " dtype: object,\n",
       " None)"
      ]
     },
     "execution_count": 12,
     "metadata": {},
     "output_type": "execute_result"
    }
   ],
   "source": [
    "df_test.dtypes,print (\"The Test dataset has {} Rows and {} Variables\".format(str(df_test.shape[0]),str(df_test.shape[1])))"
   ]
  },
  {
   "cell_type": "code",
   "execution_count": 13,
   "id": "842c950f",
   "metadata": {},
   "outputs": [
    {
     "data": {
      "text/html": [
       "<div>\n",
       "<style scoped>\n",
       "    .dataframe tbody tr th:only-of-type {\n",
       "        vertical-align: middle;\n",
       "    }\n",
       "\n",
       "    .dataframe tbody tr th {\n",
       "        vertical-align: top;\n",
       "    }\n",
       "\n",
       "    .dataframe thead th {\n",
       "        text-align: right;\n",
       "    }\n",
       "</style>\n",
       "<table border=\"1\" class=\"dataframe\">\n",
       "  <thead>\n",
       "    <tr style=\"text-align: right;\">\n",
       "      <th></th>\n",
       "      <th>Store</th>\n",
       "      <th>StoreType</th>\n",
       "      <th>Assortment</th>\n",
       "      <th>CompetitionDistance</th>\n",
       "      <th>CompetitionOpenSinceMonth</th>\n",
       "      <th>CompetitionOpenSinceYear</th>\n",
       "      <th>Promo2</th>\n",
       "      <th>Promo2SinceWeek</th>\n",
       "      <th>Promo2SinceYear</th>\n",
       "      <th>PromoInterval</th>\n",
       "    </tr>\n",
       "  </thead>\n",
       "  <tbody>\n",
       "    <tr>\n",
       "      <th>0</th>\n",
       "      <td>1</td>\n",
       "      <td>c</td>\n",
       "      <td>a</td>\n",
       "      <td>1270.0</td>\n",
       "      <td>9.0</td>\n",
       "      <td>2008.0</td>\n",
       "      <td>0</td>\n",
       "      <td>NaN</td>\n",
       "      <td>NaN</td>\n",
       "      <td>NaN</td>\n",
       "    </tr>\n",
       "    <tr>\n",
       "      <th>1</th>\n",
       "      <td>2</td>\n",
       "      <td>a</td>\n",
       "      <td>a</td>\n",
       "      <td>570.0</td>\n",
       "      <td>11.0</td>\n",
       "      <td>2007.0</td>\n",
       "      <td>1</td>\n",
       "      <td>13.0</td>\n",
       "      <td>2010.0</td>\n",
       "      <td>Jan,Apr,Jul,Oct</td>\n",
       "    </tr>\n",
       "    <tr>\n",
       "      <th>2</th>\n",
       "      <td>3</td>\n",
       "      <td>a</td>\n",
       "      <td>a</td>\n",
       "      <td>14130.0</td>\n",
       "      <td>12.0</td>\n",
       "      <td>2006.0</td>\n",
       "      <td>1</td>\n",
       "      <td>14.0</td>\n",
       "      <td>2011.0</td>\n",
       "      <td>Jan,Apr,Jul,Oct</td>\n",
       "    </tr>\n",
       "    <tr>\n",
       "      <th>3</th>\n",
       "      <td>4</td>\n",
       "      <td>c</td>\n",
       "      <td>c</td>\n",
       "      <td>620.0</td>\n",
       "      <td>9.0</td>\n",
       "      <td>2009.0</td>\n",
       "      <td>0</td>\n",
       "      <td>NaN</td>\n",
       "      <td>NaN</td>\n",
       "      <td>NaN</td>\n",
       "    </tr>\n",
       "    <tr>\n",
       "      <th>4</th>\n",
       "      <td>5</td>\n",
       "      <td>a</td>\n",
       "      <td>a</td>\n",
       "      <td>29910.0</td>\n",
       "      <td>4.0</td>\n",
       "      <td>2015.0</td>\n",
       "      <td>0</td>\n",
       "      <td>NaN</td>\n",
       "      <td>NaN</td>\n",
       "      <td>NaN</td>\n",
       "    </tr>\n",
       "  </tbody>\n",
       "</table>\n",
       "</div>"
      ],
      "text/plain": [
       "   Store StoreType Assortment  CompetitionDistance  CompetitionOpenSinceMonth  \\\n",
       "0      1         c          a               1270.0                        9.0   \n",
       "1      2         a          a                570.0                       11.0   \n",
       "2      3         a          a              14130.0                       12.0   \n",
       "3      4         c          c                620.0                        9.0   \n",
       "4      5         a          a              29910.0                        4.0   \n",
       "\n",
       "   CompetitionOpenSinceYear  Promo2  Promo2SinceWeek  Promo2SinceYear  \\\n",
       "0                    2008.0       0              NaN              NaN   \n",
       "1                    2007.0       1             13.0           2010.0   \n",
       "2                    2006.0       1             14.0           2011.0   \n",
       "3                    2009.0       0              NaN              NaN   \n",
       "4                    2015.0       0              NaN              NaN   \n",
       "\n",
       "     PromoInterval  \n",
       "0              NaN  \n",
       "1  Jan,Apr,Jul,Oct  \n",
       "2  Jan,Apr,Jul,Oct  \n",
       "3              NaN  \n",
       "4              NaN  "
      ]
     },
     "execution_count": 13,
     "metadata": {},
     "output_type": "execute_result"
    }
   ],
   "source": [
    "df_store.head() "
   ]
  },
  {
   "cell_type": "code",
   "execution_count": 14,
   "id": "7f00ef14",
   "metadata": {},
   "outputs": [
    {
     "data": {
      "text/html": [
       "<div>\n",
       "<style scoped>\n",
       "    .dataframe tbody tr th:only-of-type {\n",
       "        vertical-align: middle;\n",
       "    }\n",
       "\n",
       "    .dataframe tbody tr th {\n",
       "        vertical-align: top;\n",
       "    }\n",
       "\n",
       "    .dataframe thead th {\n",
       "        text-align: right;\n",
       "    }\n",
       "</style>\n",
       "<table border=\"1\" class=\"dataframe\">\n",
       "  <thead>\n",
       "    <tr style=\"text-align: right;\">\n",
       "      <th></th>\n",
       "      <th>Store</th>\n",
       "      <th>StoreType</th>\n",
       "      <th>Assortment</th>\n",
       "      <th>CompetitionDistance</th>\n",
       "      <th>CompetitionOpenSinceMonth</th>\n",
       "      <th>CompetitionOpenSinceYear</th>\n",
       "      <th>Promo2</th>\n",
       "      <th>Promo2SinceWeek</th>\n",
       "      <th>Promo2SinceYear</th>\n",
       "      <th>PromoInterval</th>\n",
       "    </tr>\n",
       "  </thead>\n",
       "  <tbody>\n",
       "    <tr>\n",
       "      <th>1110</th>\n",
       "      <td>1111</td>\n",
       "      <td>a</td>\n",
       "      <td>a</td>\n",
       "      <td>1900.0</td>\n",
       "      <td>6.0</td>\n",
       "      <td>2014.0</td>\n",
       "      <td>1</td>\n",
       "      <td>31.0</td>\n",
       "      <td>2013.0</td>\n",
       "      <td>Jan,Apr,Jul,Oct</td>\n",
       "    </tr>\n",
       "    <tr>\n",
       "      <th>1111</th>\n",
       "      <td>1112</td>\n",
       "      <td>c</td>\n",
       "      <td>c</td>\n",
       "      <td>1880.0</td>\n",
       "      <td>4.0</td>\n",
       "      <td>2006.0</td>\n",
       "      <td>0</td>\n",
       "      <td>NaN</td>\n",
       "      <td>NaN</td>\n",
       "      <td>NaN</td>\n",
       "    </tr>\n",
       "    <tr>\n",
       "      <th>1112</th>\n",
       "      <td>1113</td>\n",
       "      <td>a</td>\n",
       "      <td>c</td>\n",
       "      <td>9260.0</td>\n",
       "      <td>NaN</td>\n",
       "      <td>NaN</td>\n",
       "      <td>0</td>\n",
       "      <td>NaN</td>\n",
       "      <td>NaN</td>\n",
       "      <td>NaN</td>\n",
       "    </tr>\n",
       "    <tr>\n",
       "      <th>1113</th>\n",
       "      <td>1114</td>\n",
       "      <td>a</td>\n",
       "      <td>c</td>\n",
       "      <td>870.0</td>\n",
       "      <td>NaN</td>\n",
       "      <td>NaN</td>\n",
       "      <td>0</td>\n",
       "      <td>NaN</td>\n",
       "      <td>NaN</td>\n",
       "      <td>NaN</td>\n",
       "    </tr>\n",
       "    <tr>\n",
       "      <th>1114</th>\n",
       "      <td>1115</td>\n",
       "      <td>d</td>\n",
       "      <td>c</td>\n",
       "      <td>5350.0</td>\n",
       "      <td>NaN</td>\n",
       "      <td>NaN</td>\n",
       "      <td>1</td>\n",
       "      <td>22.0</td>\n",
       "      <td>2012.0</td>\n",
       "      <td>Mar,Jun,Sept,Dec</td>\n",
       "    </tr>\n",
       "  </tbody>\n",
       "</table>\n",
       "</div>"
      ],
      "text/plain": [
       "      Store StoreType Assortment  CompetitionDistance  \\\n",
       "1110   1111         a          a               1900.0   \n",
       "1111   1112         c          c               1880.0   \n",
       "1112   1113         a          c               9260.0   \n",
       "1113   1114         a          c                870.0   \n",
       "1114   1115         d          c               5350.0   \n",
       "\n",
       "      CompetitionOpenSinceMonth  CompetitionOpenSinceYear  Promo2  \\\n",
       "1110                        6.0                    2014.0       1   \n",
       "1111                        4.0                    2006.0       0   \n",
       "1112                        NaN                       NaN       0   \n",
       "1113                        NaN                       NaN       0   \n",
       "1114                        NaN                       NaN       1   \n",
       "\n",
       "      Promo2SinceWeek  Promo2SinceYear     PromoInterval  \n",
       "1110             31.0           2013.0   Jan,Apr,Jul,Oct  \n",
       "1111              NaN              NaN               NaN  \n",
       "1112              NaN              NaN               NaN  \n",
       "1113              NaN              NaN               NaN  \n",
       "1114             22.0           2012.0  Mar,Jun,Sept,Dec  "
      ]
     },
     "execution_count": 14,
     "metadata": {},
     "output_type": "execute_result"
    }
   ],
   "source": [
    "df_store.tail()"
   ]
  },
  {
   "cell_type": "code",
   "execution_count": 15,
   "id": "8aa2db8e",
   "metadata": {},
   "outputs": [
    {
     "name": "stdout",
     "output_type": "stream",
     "text": [
      "The Store dataset has 1115 Rows and 10 Variables\n"
     ]
    },
    {
     "data": {
      "text/plain": [
       "(Store                          int64\n",
       " StoreType                     object\n",
       " Assortment                    object\n",
       " CompetitionDistance          float64\n",
       " CompetitionOpenSinceMonth    float64\n",
       " CompetitionOpenSinceYear     float64\n",
       " Promo2                         int64\n",
       " Promo2SinceWeek              float64\n",
       " Promo2SinceYear              float64\n",
       " PromoInterval                 object\n",
       " dtype: object,\n",
       " None)"
      ]
     },
     "execution_count": 15,
     "metadata": {},
     "output_type": "execute_result"
    }
   ],
   "source": [
    "df_store.dtypes,print (\"The Store dataset has {} Rows and {} Variables\".format(str(df_store.shape[0]),str(df_store.shape[1])))"
   ]
  },
  {
   "cell_type": "markdown",
   "id": "6bc2668c",
   "metadata": {},
   "source": [
    "### Check for distribution in both training and test sets "
   ]
  },
  {
   "cell_type": "code",
   "execution_count": 16,
   "id": "ea431ab0",
   "metadata": {},
   "outputs": [
    {
     "data": {
      "image/png": "[encoded data removed]",
      "text/plain": [
       "<Figure size 648x504 with 1 Axes>"
      ]
     },
     "metadata": {
      "needs_background": "light"
     },
     "output_type": "display_data"
    }
   ],
   "source": [
    "plt.figure(figsize=(9, 7))\n",
    "sns.distplot(df_train['Open']).set_title(f'Distribution of open')\n",
    "plt.show()"
   ]
  },
  {
   "cell_type": "code",
   "execution_count": 17,
   "id": "c728759e",
   "metadata": {},
   "outputs": [
    {
     "data": {
      "text/plain": [
       "count    1.017209e+06\n",
       "mean     3.815145e-01\n",
       "std      4.857586e-01\n",
       "min      0.000000e+00\n",
       "25%      0.000000e+00\n",
       "50%      0.000000e+00\n",
       "75%      1.000000e+00\n",
       "max      1.000000e+00\n",
       "Name: Promo, dtype: float64"
      ]
     },
     "execution_count": 17,
     "metadata": {},
     "output_type": "execute_result"
    }
   ],
   "source": [
    "df_train.Promo.describe() "
   ]
  },
  {
   "cell_type": "code",
   "execution_count": 18,
   "id": "849d0335",
   "metadata": {},
   "outputs": [
    {
     "data": {
      "image/png": "[encoded data removed]",
      "text/plain": [
       "<Figure size 648x504 with 1 Axes>"
      ]
     },
     "metadata": {
      "needs_background": "light"
     },
     "output_type": "display_data"
    }
   ],
   "source": [
    "plt.figure(figsize=(9, 7))\n",
    "sns.distplot(df_test['Open']).set_title(f'Distribution of open')\n",
    "plt.show()\n"
   ]
  },
  {
   "cell_type": "code",
   "execution_count": 19,
   "id": "988c7cf4",
   "metadata": {},
   "outputs": [
    {
     "data": {
      "text/plain": [
       "count    41088.000000\n",
       "mean         0.395833\n",
       "std          0.489035\n",
       "min          0.000000\n",
       "25%          0.000000\n",
       "50%          0.000000\n",
       "75%          1.000000\n",
       "max          1.000000\n",
       "Name: Promo, dtype: float64"
      ]
     },
     "execution_count": 19,
     "metadata": {},
     "output_type": "execute_result"
    }
   ],
   "source": [
    "df_test.Promo.describe() "
   ]
  },
  {
   "cell_type": "markdown",
   "id": "95336da7",
   "metadata": {},
   "source": [
    "### Data Wrangling and Exploration:"
   ]
  },
  {
   "cell_type": "markdown",
   "id": "215dfe13",
   "metadata": {},
   "source": [
    "How many missing fields each variable has:"
   ]
  },
  {
   "cell_type": "code",
   "execution_count": 20,
   "id": "b5fd8cce",
   "metadata": {},
   "outputs": [
    {
     "data": {
      "text/plain": [
       "Store            100.0\n",
       "DayOfWeek        100.0\n",
       "Date             100.0\n",
       "Sales            100.0\n",
       "Customers        100.0\n",
       "Open             100.0\n",
       "Promo            100.0\n",
       "StateHoliday     100.0\n",
       "SchoolHoliday    100.0\n",
       "dtype: float64"
      ]
     },
     "execution_count": 20,
     "metadata": {},
     "output_type": "execute_result"
    }
   ],
   "source": [
    "df_train.count(0)/df_train.shape[0] * 100"
   ]
  },
  {
   "cell_type": "markdown",
   "id": "94c17997",
   "metadata": {},
   "source": [
    "* We can see that the the columns have got a good fill rate. We don't need to do any change for the train set for now at least."
   ]
  },
  {
   "cell_type": "code",
   "execution_count": 21,
   "id": "6384c57f",
   "metadata": {},
   "outputs": [
    {
     "name": "stdout",
     "output_type": "stream",
     "text": [
      "\n",
      "-Over those two years, 172817 is the number of times that different stores closed on given days.\n",
      "\n",
      "-From those closed events, 2263 times occured because there was a school holiday. \n",
      "\n",
      "-And 30140 times it occured because of either a bank holiday or easter or christmas.\n",
      "\n",
      "-But interestingly enough, 121482 times those shops closed on days for no apparent reason when no holiday was announced. In fact, those closings were done with no pattern whatsoever and in this case from 2013 to 2015 at almost any month and any day.\n",
      "\n"
     ]
    }
   ],
   "source": [
    "print ()\n",
    "print (\"-Over those two years, {} is the number of times that different stores closed on given days.\".format(df_train[(df_train.Open == 0)].count()[0]))\n",
    "print ()\n",
    "print (\"-From those closed events, {} times occured because there was a school holiday. \" .format(df_train[(df_train.Open == 0) & (df_train.SchoolHoliday == 1)&(df_train.StateHoliday == '0') ].count()[0]))\n",
    "print ()\n",
    "print (\"-And {} times it occured because of either a bank holiday or easter or christmas.\".format(df_train[(df_train.Open == 0) &\n",
    "         ((df_train.StateHoliday == 'a') |\n",
    "          (df_train.StateHoliday == 'b') | \n",
    "          (df_train.StateHoliday == 'c'))].count()[0]))\n",
    "print ()\n",
    "print (\"-But interestingly enough, {} times those shops closed on days for no apparent reason when no holiday was announced. In fact, those closings were done with no pattern whatsoever and in this case from 2013 to 2015 at almost any month and any day.\".format(df_train[(df_train.Open == 0) &\n",
    "         (df_train.StateHoliday == \"0\")\n",
    "         &(df_train.SchoolHoliday == 0)].count()[0]))\n",
    "print ()"
   ]
  },
  {
   "cell_type": "markdown",
   "id": "61ef67e2",
   "metadata": {},
   "source": [
    "    * Since  we don't want  to bias our  decision tree models to consider those exceptions, the best solution here is to get rid of closed stores and prevent the models to train on them and get false guidance.\n",
    "    *In this case we will analyse only open stores since a close store yield a profit of 0."
   ]
  },
  {
   "cell_type": "code",
   "execution_count": 22,
   "id": "84d03fe8",
   "metadata": {},
   "outputs": [],
   "source": [
    "df_train=df_train.drop(df_train[(df_train.Open == 0) & (df_train.Sales == 0)].index)"
   ]
  },
  {
   "cell_type": "code",
   "execution_count": 23,
   "id": "28859b59",
   "metadata": {},
   "outputs": [],
   "source": [
    "#making sure the indexes are back to [0,1,2,3 etc.] \n",
    "df_train = df_train.reset_index(drop=True) "
   ]
  },
  {
   "cell_type": "code",
   "execution_count": 24,
   "id": "f7acd6c5",
   "metadata": {},
   "outputs": [
    {
     "name": "stdout",
     "output_type": "stream",
     "text": [
      "Our new training set has now 844392 rows \n"
     ]
    }
   ],
   "source": [
    "print (\"Our new training set has now {} rows \".format(df_train.shape[0]))"
   ]
  },
  {
   "cell_type": "markdown",
   "id": "4f384f90",
   "metadata": {},
   "source": [
    "### What about the distribution of Sales and Customers in the train set and test set? Any outliers?"
   ]
  },
  {
   "cell_type": "markdown",
   "id": "225ca232",
   "metadata": {},
   "source": [
    "#### 1) Sales:"
   ]
  },
  {
   "cell_type": "code",
   "execution_count": 25,
   "id": "535db5cd",
   "metadata": {},
   "outputs": [
    {
     "data": {
      "text/plain": [
       "count    844392.000000\n",
       "mean       6955.514291\n",
       "std        3104.214680\n",
       "min           0.000000\n",
       "25%        4859.000000\n",
       "50%        6369.000000\n",
       "75%        8360.000000\n",
       "max       41551.000000\n",
       "Name: Sales, dtype: float64"
      ]
     },
     "execution_count": 25,
     "metadata": {},
     "output_type": "execute_result"
    }
   ],
   "source": [
    "df_train.Sales.describe() "
   ]
  },
  {
   "cell_type": "markdown",
   "id": "0638ef0e",
   "metadata": {},
   "source": [
    "we see here a minimum of 0 which means some stores even opened got 0 sales on some days."
   ]
  },
  {
   "cell_type": "code",
   "execution_count": 26,
   "id": "eaf821e3",
   "metadata": {},
   "outputs": [],
   "source": [
    "df_train=df_train.drop(df_train[(df_train.Open == 1) & (df_train.Sales == 0)].index)\n",
    "df_train = df_train.reset_index(drop=True) "
   ]
  },
  {
   "cell_type": "code",
   "execution_count": 27,
   "id": "09f56ed6",
   "metadata": {},
   "outputs": [
    {
     "data": {
      "text/plain": [
       "{'Mean': 6955.959133664481, 'Median': 6369.0}"
      ]
     },
     "execution_count": 27,
     "metadata": {},
     "output_type": "execute_result"
    },
    {
     "data": {
      "image/png": "[encoded data removed]",
      "text/plain": [
       "<Figure size 1224x252 with 2 Axes>"
      ]
     },
     "metadata": {
      "needs_background": "light"
     },
     "output_type": "display_data"
    }
   ],
   "source": [
    "fig, axes = plt.subplots(1, 2, figsize=(17,3.5))\n",
    "axes[0].boxplot(df_train.Sales, showmeans=True,vert=False)\n",
    "axes[0].set_xlim(0,max(df_train[\"Sales\"]+1000))\n",
    "axes[0].set_title('Boxplot For Sales Values')\n",
    "axes[1].hist(df_train.Sales, cumulative=False, bins=20)\n",
    "axes[1].set_title(\"Sales histogram\")\n",
    "axes[1].set_xlim((min(df_train.Sales), max(df_train.Sales)))\n",
    "\n",
    "{\"Mean\":np.mean(df_train.Sales),\"Median\":np.median(df_train.Sales)}"
   ]
  },
  {
   "cell_type": "code",
   "execution_count": 28,
   "id": "302e3633",
   "metadata": {},
   "outputs": [
    {
     "name": "stdout",
     "output_type": "stream",
     "text": [
      "3.21% of the time Rossman are actually having big sales day (considered outliers).\n",
      "0.00% of the time Rossman are actually having no sales at all.\n"
     ]
    }
   ],
   "source": [
    "print (\"{0:.2f}% of the time Rossman are actually having big sales day (considered outliers).\".format(df_train[df_train.Sales>14000].count()[0]/df_train.shape[0]*100))\n",
    "print (\"{0:.2f}% of the time Rossman are actually having no sales at all.\".format(df_train[df_train.Sales==0].count()[0]/df_train.shape[0]*100))"
   ]
  },
  {
   "cell_type": "markdown",
   "id": "0ff22408",
   "metadata": {},
   "source": [
    "#### Findings:   \n",
    "    * Some exceptions (the outliers) in the boxplot had to be checked to see if it's wrong inputted data\n",
    "    * An  important  metric  to  always check when looking at a distribution is how the mean compares to the median and how close are they from each other.  As we see here a mean of 6955 versus 6369 in median is a very good sign that there are no extravagant values affecting the general distribution of Sales.\n",
    "    \n",
    "    "
   ]
  },
  {
   "cell_type": "markdown",
   "id": "f06132cc",
   "metadata": {},
   "source": [
    "#### 2) Customers:"
   ]
  },
  {
   "cell_type": "code",
   "execution_count": 29,
   "id": "1a5c4f75",
   "metadata": {},
   "outputs": [
    {
     "data": {
      "text/plain": [
       "count    844338.000000\n",
       "mean        762.777166\n",
       "std         401.194153\n",
       "min           8.000000\n",
       "25%         519.000000\n",
       "50%         676.000000\n",
       "75%         893.000000\n",
       "max        7388.000000\n",
       "Name: Customers, dtype: float64"
      ]
     },
     "execution_count": 29,
     "metadata": {},
     "output_type": "execute_result"
    }
   ],
   "source": [
    "df_train.Customers.describe() "
   ]
  },
  {
   "cell_type": "code",
   "execution_count": 30,
   "id": "31c113f1",
   "metadata": {},
   "outputs": [
    {
     "data": {
      "text/plain": [
       "{'Mean': 762.777166253325, 'Median': 676.0}"
      ]
     },
     "execution_count": 30,
     "metadata": {},
     "output_type": "execute_result"
    },
    {
     "data": {
      "image/png": "[encoded data removed]",
      "text/plain": [
       "<Figure size 1224x252 with 2 Axes>"
      ]
     },
     "metadata": {
      "needs_background": "light"
     },
     "output_type": "display_data"
    }
   ],
   "source": [
    "fig, axes = plt.subplots(1, 2, figsize=(17,3.5))\n",
    "axes[0].boxplot(df_train.Customers, showmeans=True,vert=False)\n",
    "axes[0].set_xlim(0,max(df_train[\"Customers\"]+100))\n",
    "axes[0].set_title('Boxplot For Customer Values')\n",
    "axes[1].hist(df_train.Customers, cumulative=False, bins=20)\n",
    "axes[1].set_title(\"Customers histogram\")\n",
    "axes[1].set_xlim((min(df_train.Customers), max(df_train.Customers)))\n",
    "\n",
    "{\"Mean\":np.mean(df_train.Customers),\"Median\":np.median(df_train.Customers)}"
   ]
  },
  {
   "cell_type": "code",
   "execution_count": 31,
   "id": "296ede67",
   "metadata": {},
   "outputs": [
    {
     "name": "stdout",
     "output_type": "stream",
     "text": [
      "4.37% of the time Rossman are actually having customers more than usual (considered outliers).\n",
      "0.00% of the time Rossman are actually having no customers at all.\n"
     ]
    }
   ],
   "source": [
    "print (\"{0:.2f}% of the time Rossman are actually having customers more than usual (considered outliers).\".format(df_train[df_train.Customers>1500].count()[0]/df_train.shape[0]*100))\n",
    "print (\"{0:.2f}% of the time Rossman are actually having no customers at all.\".format(df_train[df_train.Customers==0].count()[0]/df_train.shape[0]*100))"
   ]
  },
  {
   "cell_type": "code",
   "execution_count": 32,
   "id": "60b34798",
   "metadata": {},
   "outputs": [
    {
     "data": {
      "text/html": [
       "<div>\n",
       "<style scoped>\n",
       "    .dataframe tbody tr th:only-of-type {\n",
       "        vertical-align: middle;\n",
       "    }\n",
       "\n",
       "    .dataframe tbody tr th {\n",
       "        vertical-align: top;\n",
       "    }\n",
       "\n",
       "    .dataframe thead th {\n",
       "        text-align: right;\n",
       "    }\n",
       "</style>\n",
       "<table border=\"1\" class=\"dataframe\">\n",
       "  <thead>\n",
       "    <tr style=\"text-align: right;\">\n",
       "      <th></th>\n",
       "      <th>Store</th>\n",
       "      <th>DayOfWeek</th>\n",
       "      <th>Date</th>\n",
       "      <th>Sales</th>\n",
       "      <th>Customers</th>\n",
       "      <th>Open</th>\n",
       "      <th>Promo</th>\n",
       "      <th>StateHoliday</th>\n",
       "      <th>SchoolHoliday</th>\n",
       "    </tr>\n",
       "  </thead>\n",
       "  <tbody>\n",
       "    <tr>\n",
       "      <th>825160</th>\n",
       "      <td>817</td>\n",
       "      <td>2</td>\n",
       "      <td>2013-01-22</td>\n",
       "      <td>27190</td>\n",
       "      <td>7388</td>\n",
       "      <td>1</td>\n",
       "      <td>1</td>\n",
       "      <td>0</td>\n",
       "      <td>0</td>\n",
       "    </tr>\n",
       "  </tbody>\n",
       "</table>\n",
       "</div>"
      ],
      "text/plain": [
       "        Store  DayOfWeek        Date  Sales  Customers  Open  Promo  \\\n",
       "825160    817          2  2013-01-22  27190       7388     1      1   \n",
       "\n",
       "       StateHoliday  SchoolHoliday  \n",
       "825160            0              0  "
      ]
     },
     "execution_count": 32,
     "metadata": {},
     "output_type": "execute_result"
    }
   ],
   "source": [
    "df_train[df_train.Customers>7000]"
   ]
  },
  {
   "cell_type": "code",
   "execution_count": 33,
   "id": "cc83a558",
   "metadata": {},
   "outputs": [
    {
     "data": {
      "text/plain": [
       "0.823551720200021"
      ]
     },
     "execution_count": 33,
     "metadata": {},
     "output_type": "execute_result"
    }
   ],
   "source": [
    "stats.pearsonr(df_train.Customers, df_train.Sales)[0]"
   ]
  },
  {
   "cell_type": "code",
   "execution_count": 34,
   "id": "dff781bb",
   "metadata": {},
   "outputs": [
    {
     "data": {
      "image/png": "[encoded data removed]",
      "text/plain": [
       "<Figure size 864x504 with 1 Axes>"
      ]
     },
     "metadata": {
      "needs_background": "light"
     },
     "output_type": "display_data"
    }
   ],
   "source": [
    "cor=df_train[['Customers','Sales']].corr()\n",
    "plot.plot_heatmap(cor, 'Customer Vs Sales')"
   ]
  },
  {
   "cell_type": "markdown",
   "id": "a746d43c",
   "metadata": {},
   "source": [
    "#### Findings\n",
    "    *We can see similair patterns with the customers column and the Sales column, in fact our pearson correlation factor of 0.82 explains that there is a strong positive correlation between Sales and Customers. In general, the more customers you have in a store, the higher your sales for the day.\n",
    "\n",
    "    *We see that on a specific day there was a huge amount of customers in a store\n",
    "    \n",
    "    *We observe a right skewness in both distributions because of the low number of outliers but the high representation of each outlier alone which pushes the distribution to the lefta as seen in both histograms.This typically occurs when the mean is higher than the median."
   ]
  },
  {
   "cell_type": "markdown",
   "id": "595899c5",
   "metadata": {},
   "source": [
    "### A closer look at the Store Dataset:"
   ]
  },
  {
   "cell_type": "code",
   "execution_count": 35,
   "id": "d91a30dd",
   "metadata": {},
   "outputs": [
    {
     "data": {
      "text/plain": [
       "Store                        100.000000\n",
       "StoreType                    100.000000\n",
       "Assortment                   100.000000\n",
       "CompetitionDistance           99.730942\n",
       "CompetitionOpenSinceMonth     68.251121\n",
       "CompetitionOpenSinceYear      68.251121\n",
       "Promo2                       100.000000\n",
       "Promo2SinceWeek               51.210762\n",
       "Promo2SinceYear               51.210762\n",
       "PromoInterval                 51.210762\n",
       "dtype: float64"
      ]
     },
     "execution_count": 35,
     "metadata": {},
     "output_type": "execute_result"
    }
   ],
   "source": [
    "df_store.count(0)/df_store.shape[0]* 100"
   ]
  },
  {
   "cell_type": "markdown",
   "id": "d75c07a7",
   "metadata": {},
   "source": [
    "#### Findings:\n",
    "    * The Promo2SinceWeek,Promo2SinceYear and PromoInterval variables has 51% fill rate since they are actually NULL values because there are no continuous promotion for those stores.\n",
    "\n",
    "    * Instead  for CompetitionOpenSinceMonth  and CompetitionOpenSinceYear,  it's basically missing data that we're dealing with here (68.25% fill rate), this means that we have the nearest distance of the competitor but miss the date information on when did he actually opened next to the Rossman store."
   ]
  },
  {
   "cell_type": "code",
   "execution_count": null,
   "id": "60bb2ff3",
   "metadata": {},
   "outputs": [],
   "source": []
  },
  {
   "cell_type": "markdown",
   "id": "3248bc11",
   "metadata": {},
   "source": [
    "##### Let's start the cleansing process by order:"
   ]
  },
  {
   "cell_type": "markdown",
   "id": "e95a4f7b",
   "metadata": {},
   "source": [
    "###### 1) CompetitionDistance:"
   ]
  },
  {
   "cell_type": "code",
   "execution_count": 36,
   "id": "7c3d1976",
   "metadata": {},
   "outputs": [
    {
     "data": {
      "text/html": [
       "<div>\n",
       "<style scoped>\n",
       "    .dataframe tbody tr th:only-of-type {\n",
       "        vertical-align: middle;\n",
       "    }\n",
       "\n",
       "    .dataframe tbody tr th {\n",
       "        vertical-align: top;\n",
       "    }\n",
       "\n",
       "    .dataframe thead th {\n",
       "        text-align: right;\n",
       "    }\n",
       "</style>\n",
       "<table border=\"1\" class=\"dataframe\">\n",
       "  <thead>\n",
       "    <tr style=\"text-align: right;\">\n",
       "      <th></th>\n",
       "      <th>Store</th>\n",
       "      <th>StoreType</th>\n",
       "      <th>Assortment</th>\n",
       "      <th>CompetitionDistance</th>\n",
       "      <th>CompetitionOpenSinceMonth</th>\n",
       "      <th>CompetitionOpenSinceYear</th>\n",
       "      <th>Promo2</th>\n",
       "      <th>Promo2SinceWeek</th>\n",
       "      <th>Promo2SinceYear</th>\n",
       "      <th>PromoInterval</th>\n",
       "    </tr>\n",
       "  </thead>\n",
       "  <tbody>\n",
       "    <tr>\n",
       "      <th>290</th>\n",
       "      <td>291</td>\n",
       "      <td>d</td>\n",
       "      <td>a</td>\n",
       "      <td>NaN</td>\n",
       "      <td>NaN</td>\n",
       "      <td>NaN</td>\n",
       "      <td>0</td>\n",
       "      <td>NaN</td>\n",
       "      <td>NaN</td>\n",
       "      <td>NaN</td>\n",
       "    </tr>\n",
       "    <tr>\n",
       "      <th>621</th>\n",
       "      <td>622</td>\n",
       "      <td>a</td>\n",
       "      <td>c</td>\n",
       "      <td>NaN</td>\n",
       "      <td>NaN</td>\n",
       "      <td>NaN</td>\n",
       "      <td>0</td>\n",
       "      <td>NaN</td>\n",
       "      <td>NaN</td>\n",
       "      <td>NaN</td>\n",
       "    </tr>\n",
       "    <tr>\n",
       "      <th>878</th>\n",
       "      <td>879</td>\n",
       "      <td>d</td>\n",
       "      <td>a</td>\n",
       "      <td>NaN</td>\n",
       "      <td>NaN</td>\n",
       "      <td>NaN</td>\n",
       "      <td>1</td>\n",
       "      <td>5.0</td>\n",
       "      <td>2013.0</td>\n",
       "      <td>Feb,May,Aug,Nov</td>\n",
       "    </tr>\n",
       "  </tbody>\n",
       "</table>\n",
       "</div>"
      ],
      "text/plain": [
       "     Store StoreType Assortment  CompetitionDistance  \\\n",
       "290    291         d          a                  NaN   \n",
       "621    622         a          c                  NaN   \n",
       "878    879         d          a                  NaN   \n",
       "\n",
       "     CompetitionOpenSinceMonth  CompetitionOpenSinceYear  Promo2  \\\n",
       "290                        NaN                       NaN       0   \n",
       "621                        NaN                       NaN       0   \n",
       "878                        NaN                       NaN       1   \n",
       "\n",
       "     Promo2SinceWeek  Promo2SinceYear    PromoInterval  \n",
       "290              NaN              NaN              NaN  \n",
       "621              NaN              NaN              NaN  \n",
       "878              5.0           2013.0  Feb,May,Aug,Nov  "
      ]
     },
     "execution_count": 36,
     "metadata": {},
     "output_type": "execute_result"
    }
   ],
   "source": [
    "df_store[pd.isnull(df_store.CompetitionDistance)] "
   ]
  },
  {
   "cell_type": "markdown",
   "id": "bb06afde",
   "metadata": {},
   "source": [
    "#rows with missing values for Competition Distance, only 3 rows with null which makes sense since 99.73% is filled"
   ]
  },
  {
   "cell_type": "code",
   "execution_count": 37,
   "id": "14a56497",
   "metadata": {},
   "outputs": [
    {
     "data": {
      "text/plain": [
       "{'Mean': 5404.901079136691,\n",
       " 'Median': 2325.0,\n",
       " 'Standard Dev': 7659.7282732764415}"
      ]
     },
     "execution_count": 37,
     "metadata": {},
     "output_type": "execute_result"
    },
    {
     "data": {
      "image/png": "[encoded data removed]",
      "text/plain": [
       "<Figure size 1224x252 with 2 Axes>"
      ]
     },
     "metadata": {
      "needs_background": "light"
     },
     "output_type": "display_data"
    }
   ],
   "source": [
    "df_store_check_distribution=df_store.drop(df_store[pd.isnull(df_store.CompetitionDistance)].index)\n",
    "fig, axes = plt.subplots(1, 2, figsize=(17,3.5))\n",
    "axes[0].boxplot(df_store_check_distribution.CompetitionDistance, showmeans=True,vert=False,)\n",
    "axes[0].set_xlim(0,max(df_store_check_distribution.CompetitionDistance+1000))\n",
    "axes[0].set_title('Boxplot For Closest Competition')\n",
    "axes[1].hist(df_store_check_distribution.CompetitionDistance, cumulative=False, bins=30)\n",
    "axes[1].set_title(\"Closest Competition histogram\")\n",
    "axes[1].set_xlim((min(df_store_check_distribution.CompetitionDistance), max(df_store_check_distribution.CompetitionDistance)))\n",
    "{\"Mean\":np.nanmean(df_store.CompetitionDistance),\"Median\":np.nanmedian(df_store.CompetitionDistance),\"Standard Dev\":np.nanstd(df_store.CompetitionDistance)}"
   ]
  },
  {
   "cell_type": "markdown",
   "id": "75e159fe",
   "metadata": {},
   "source": [
    "We see a highly right skewed distribution for this variable with a significant difference between the mean and the median. This being caused by the amount of disperness in the data with a standard deviation of 7659, higher than the mean and the median."
   ]
  },
  {
   "cell_type": "markdown",
   "id": "04c0d94f",
   "metadata": {},
   "source": [
    "###### Solution:\n",
    "    * It is realistically better to input the median value to the three Nan stores then the mean since the mean is biased by those outliers."
   ]
  },
  {
   "cell_type": "code",
   "execution_count": 38,
   "id": "c2cb603c",
   "metadata": {},
   "outputs": [],
   "source": [
    "df_store['CompetitionDistance'].fillna(df_store['CompetitionDistance'].median(), inplace = True)"
   ]
  },
  {
   "cell_type": "markdown",
   "id": "ab58ccd0",
   "metadata": {},
   "source": [
    "###### 2) CompetitionOpenSinceMonth and CompetitionOpenSinceYear?\n",
    "    * Since we have no information whatsoever on those missing values and no accurate way of filling those values.\n",
    "    * So for this purpose those fields are going to be assigned to 0 ."
   ]
  },
  {
   "cell_type": "code",
   "execution_count": 39,
   "id": "950c7a79",
   "metadata": {},
   "outputs": [],
   "source": [
    "df_store.CompetitionOpenSinceMonth.fillna(0, inplace = True)\n",
    "df_store.CompetitionOpenSinceYear.fillna(0,inplace=True)"
   ]
  },
  {
   "cell_type": "markdown",
   "id": "6a54cada",
   "metadata": {},
   "source": [
    "###### 3) Promo2SinceWeek, Promo2SinceYear and PromoInterval ?"
   ]
  },
  {
   "cell_type": "code",
   "execution_count": 40,
   "id": "50b2666b",
   "metadata": {},
   "outputs": [
    {
     "data": {
      "text/html": [
       "<div>\n",
       "<style scoped>\n",
       "    .dataframe tbody tr th:only-of-type {\n",
       "        vertical-align: middle;\n",
       "    }\n",
       "\n",
       "    .dataframe tbody tr th {\n",
       "        vertical-align: top;\n",
       "    }\n",
       "\n",
       "    .dataframe thead th {\n",
       "        text-align: right;\n",
       "    }\n",
       "</style>\n",
       "<table border=\"1\" class=\"dataframe\">\n",
       "  <thead>\n",
       "    <tr style=\"text-align: right;\">\n",
       "      <th></th>\n",
       "      <th>Store</th>\n",
       "      <th>StoreType</th>\n",
       "      <th>Assortment</th>\n",
       "      <th>CompetitionDistance</th>\n",
       "      <th>CompetitionOpenSinceMonth</th>\n",
       "      <th>CompetitionOpenSinceYear</th>\n",
       "      <th>Promo2</th>\n",
       "      <th>Promo2SinceWeek</th>\n",
       "      <th>Promo2SinceYear</th>\n",
       "      <th>PromoInterval</th>\n",
       "    </tr>\n",
       "  </thead>\n",
       "  <tbody>\n",
       "    <tr>\n",
       "      <th>0</th>\n",
       "      <td>1</td>\n",
       "      <td>c</td>\n",
       "      <td>a</td>\n",
       "      <td>1270.0</td>\n",
       "      <td>9.0</td>\n",
       "      <td>2008.0</td>\n",
       "      <td>0</td>\n",
       "      <td>NaN</td>\n",
       "      <td>NaN</td>\n",
       "      <td>NaN</td>\n",
       "    </tr>\n",
       "    <tr>\n",
       "      <th>3</th>\n",
       "      <td>4</td>\n",
       "      <td>c</td>\n",
       "      <td>c</td>\n",
       "      <td>620.0</td>\n",
       "      <td>9.0</td>\n",
       "      <td>2009.0</td>\n",
       "      <td>0</td>\n",
       "      <td>NaN</td>\n",
       "      <td>NaN</td>\n",
       "      <td>NaN</td>\n",
       "    </tr>\n",
       "    <tr>\n",
       "      <th>4</th>\n",
       "      <td>5</td>\n",
       "      <td>a</td>\n",
       "      <td>a</td>\n",
       "      <td>29910.0</td>\n",
       "      <td>4.0</td>\n",
       "      <td>2015.0</td>\n",
       "      <td>0</td>\n",
       "      <td>NaN</td>\n",
       "      <td>NaN</td>\n",
       "      <td>NaN</td>\n",
       "    </tr>\n",
       "    <tr>\n",
       "      <th>5</th>\n",
       "      <td>6</td>\n",
       "      <td>a</td>\n",
       "      <td>a</td>\n",
       "      <td>310.0</td>\n",
       "      <td>12.0</td>\n",
       "      <td>2013.0</td>\n",
       "      <td>0</td>\n",
       "      <td>NaN</td>\n",
       "      <td>NaN</td>\n",
       "      <td>NaN</td>\n",
       "    </tr>\n",
       "    <tr>\n",
       "      <th>6</th>\n",
       "      <td>7</td>\n",
       "      <td>a</td>\n",
       "      <td>c</td>\n",
       "      <td>24000.0</td>\n",
       "      <td>4.0</td>\n",
       "      <td>2013.0</td>\n",
       "      <td>0</td>\n",
       "      <td>NaN</td>\n",
       "      <td>NaN</td>\n",
       "      <td>NaN</td>\n",
       "    </tr>\n",
       "    <tr>\n",
       "      <th>...</th>\n",
       "      <td>...</td>\n",
       "      <td>...</td>\n",
       "      <td>...</td>\n",
       "      <td>...</td>\n",
       "      <td>...</td>\n",
       "      <td>...</td>\n",
       "      <td>...</td>\n",
       "      <td>...</td>\n",
       "      <td>...</td>\n",
       "      <td>...</td>\n",
       "    </tr>\n",
       "    <tr>\n",
       "      <th>1107</th>\n",
       "      <td>1108</td>\n",
       "      <td>a</td>\n",
       "      <td>a</td>\n",
       "      <td>540.0</td>\n",
       "      <td>4.0</td>\n",
       "      <td>2004.0</td>\n",
       "      <td>0</td>\n",
       "      <td>NaN</td>\n",
       "      <td>NaN</td>\n",
       "      <td>NaN</td>\n",
       "    </tr>\n",
       "    <tr>\n",
       "      <th>1109</th>\n",
       "      <td>1110</td>\n",
       "      <td>c</td>\n",
       "      <td>c</td>\n",
       "      <td>900.0</td>\n",
       "      <td>9.0</td>\n",
       "      <td>2010.0</td>\n",
       "      <td>0</td>\n",
       "      <td>NaN</td>\n",
       "      <td>NaN</td>\n",
       "      <td>NaN</td>\n",
       "    </tr>\n",
       "    <tr>\n",
       "      <th>1111</th>\n",
       "      <td>1112</td>\n",
       "      <td>c</td>\n",
       "      <td>c</td>\n",
       "      <td>1880.0</td>\n",
       "      <td>4.0</td>\n",
       "      <td>2006.0</td>\n",
       "      <td>0</td>\n",
       "      <td>NaN</td>\n",
       "      <td>NaN</td>\n",
       "      <td>NaN</td>\n",
       "    </tr>\n",
       "    <tr>\n",
       "      <th>1112</th>\n",
       "      <td>1113</td>\n",
       "      <td>a</td>\n",
       "      <td>c</td>\n",
       "      <td>9260.0</td>\n",
       "      <td>0.0</td>\n",
       "      <td>0.0</td>\n",
       "      <td>0</td>\n",
       "      <td>NaN</td>\n",
       "      <td>NaN</td>\n",
       "      <td>NaN</td>\n",
       "    </tr>\n",
       "    <tr>\n",
       "      <th>1113</th>\n",
       "      <td>1114</td>\n",
       "      <td>a</td>\n",
       "      <td>c</td>\n",
       "      <td>870.0</td>\n",
       "      <td>0.0</td>\n",
       "      <td>0.0</td>\n",
       "      <td>0</td>\n",
       "      <td>NaN</td>\n",
       "      <td>NaN</td>\n",
       "      <td>NaN</td>\n",
       "    </tr>\n",
       "  </tbody>\n",
       "</table>\n",
       "<p>544 rows × 10 columns</p>\n",
       "</div>"
      ],
      "text/plain": [
       "      Store StoreType Assortment  CompetitionDistance  \\\n",
       "0         1         c          a               1270.0   \n",
       "3         4         c          c                620.0   \n",
       "4         5         a          a              29910.0   \n",
       "5         6         a          a                310.0   \n",
       "6         7         a          c              24000.0   \n",
       "...     ...       ...        ...                  ...   \n",
       "1107   1108         a          a                540.0   \n",
       "1109   1110         c          c                900.0   \n",
       "1111   1112         c          c               1880.0   \n",
       "1112   1113         a          c               9260.0   \n",
       "1113   1114         a          c                870.0   \n",
       "\n",
       "      CompetitionOpenSinceMonth  CompetitionOpenSinceYear  Promo2  \\\n",
       "0                           9.0                    2008.0       0   \n",
       "3                           9.0                    2009.0       0   \n",
       "4                           4.0                    2015.0       0   \n",
       "5                          12.0                    2013.0       0   \n",
       "6                           4.0                    2013.0       0   \n",
       "...                         ...                       ...     ...   \n",
       "1107                        4.0                    2004.0       0   \n",
       "1109                        9.0                    2010.0       0   \n",
       "1111                        4.0                    2006.0       0   \n",
       "1112                        0.0                       0.0       0   \n",
       "1113                        0.0                       0.0       0   \n",
       "\n",
       "      Promo2SinceWeek  Promo2SinceYear PromoInterval  \n",
       "0                 NaN              NaN           NaN  \n",
       "3                 NaN              NaN           NaN  \n",
       "4                 NaN              NaN           NaN  \n",
       "5                 NaN              NaN           NaN  \n",
       "6                 NaN              NaN           NaN  \n",
       "...               ...              ...           ...  \n",
       "1107              NaN              NaN           NaN  \n",
       "1109              NaN              NaN           NaN  \n",
       "1111              NaN              NaN           NaN  \n",
       "1112              NaN              NaN           NaN  \n",
       "1113              NaN              NaN           NaN  \n",
       "\n",
       "[544 rows x 10 columns]"
      ]
     },
     "execution_count": 40,
     "metadata": {},
     "output_type": "execute_result"
    }
   ],
   "source": [
    "\n",
    "df_store[pd.isnull(df_store.Promo2SinceWeek)& (df_store.Promo2==0)]"
   ]
  },
  {
   "cell_type": "markdown",
   "id": "a20b15f3",
   "metadata": {},
   "source": [
    "###### Findings:\n",
    "    *This case is pretty straighforward, all the missing values comes from fields where Promo2=0 which means there are no continuous promotional activities for those stores.\n",
    "    * Having no promotion means those fields have to be 0 as well since they are linked to Promo2."
   ]
  },
  {
   "cell_type": "code",
   "execution_count": 41,
   "id": "c250aa55",
   "metadata": {},
   "outputs": [],
   "source": [
    "df_store.Promo2SinceWeek.fillna(0,inplace=True)\n",
    "df_store.Promo2SinceYear.fillna(0,inplace=True)\n",
    "df_store.PromoInterval.fillna(0,inplace=True)"
   ]
  },
  {
   "cell_type": "code",
   "execution_count": 42,
   "id": "c8ac5a13",
   "metadata": {},
   "outputs": [
    {
     "data": {
      "text/plain": [
       "Store                        100.0\n",
       "StoreType                    100.0\n",
       "Assortment                   100.0\n",
       "CompetitionDistance          100.0\n",
       "CompetitionOpenSinceMonth    100.0\n",
       "CompetitionOpenSinceYear     100.0\n",
       "Promo2                       100.0\n",
       "Promo2SinceWeek              100.0\n",
       "Promo2SinceYear              100.0\n",
       "PromoInterval                100.0\n",
       "dtype: float64"
      ]
     },
     "execution_count": 42,
     "metadata": {},
     "output_type": "execute_result"
    }
   ],
   "source": [
    "df_store.count(0)/df_store.shape[0] * 100"
   ]
  },
  {
   "cell_type": "markdown",
   "id": "b9f574f3",
   "metadata": {},
   "source": [
    "#### Now that we are done with clearing missing values, let's merge the two datasets."
   ]
  },
  {
   "cell_type": "code",
   "execution_count": 43,
   "id": "8fa8573c",
   "metadata": {},
   "outputs": [
    {
     "name": "stdout",
     "output_type": "stream",
     "text": [
      "The Train_Store dataset has 844338 Rows and 18 Variables\n"
     ]
    }
   ],
   "source": [
    "#Left-join the train to the store dataset since .Why?\n",
    "#Because you want to make sure you have all events even if some of them don't have their store information ( which shouldn't happen)\n",
    "df_train_store = pd.merge(df_train, df_store, how = 'left', on = 'Store')\n",
    "\n",
    "print (\"The Train_Store dataset has {} Rows and {} Variables\".format(str(df_train_store.shape[0]),str(df_train_store.shape[1]))) "
   ]
  },
  {
   "cell_type": "code",
   "execution_count": 44,
   "id": "928c57c8",
   "metadata": {},
   "outputs": [
    {
     "data": {
      "text/html": [
       "<div>\n",
       "<style scoped>\n",
       "    .dataframe tbody tr th:only-of-type {\n",
       "        vertical-align: middle;\n",
       "    }\n",
       "\n",
       "    .dataframe tbody tr th {\n",
       "        vertical-align: top;\n",
       "    }\n",
       "\n",
       "    .dataframe thead th {\n",
       "        text-align: right;\n",
       "    }\n",
       "</style>\n",
       "<table border=\"1\" class=\"dataframe\">\n",
       "  <thead>\n",
       "    <tr style=\"text-align: right;\">\n",
       "      <th></th>\n",
       "      <th>Store</th>\n",
       "      <th>DayOfWeek</th>\n",
       "      <th>Date</th>\n",
       "      <th>Sales</th>\n",
       "      <th>Customers</th>\n",
       "      <th>Open</th>\n",
       "      <th>Promo</th>\n",
       "      <th>StateHoliday</th>\n",
       "      <th>SchoolHoliday</th>\n",
       "      <th>StoreType</th>\n",
       "      <th>Assortment</th>\n",
       "      <th>CompetitionDistance</th>\n",
       "      <th>CompetitionOpenSinceMonth</th>\n",
       "      <th>CompetitionOpenSinceYear</th>\n",
       "      <th>Promo2</th>\n",
       "      <th>Promo2SinceWeek</th>\n",
       "      <th>Promo2SinceYear</th>\n",
       "      <th>PromoInterval</th>\n",
       "    </tr>\n",
       "  </thead>\n",
       "  <tbody>\n",
       "    <tr>\n",
       "      <th>0</th>\n",
       "      <td>1</td>\n",
       "      <td>5</td>\n",
       "      <td>2015-07-31</td>\n",
       "      <td>5263</td>\n",
       "      <td>555</td>\n",
       "      <td>1</td>\n",
       "      <td>1</td>\n",
       "      <td>0</td>\n",
       "      <td>1</td>\n",
       "      <td>c</td>\n",
       "      <td>a</td>\n",
       "      <td>1270.0</td>\n",
       "      <td>9.0</td>\n",
       "      <td>2008.0</td>\n",
       "      <td>0</td>\n",
       "      <td>0.0</td>\n",
       "      <td>0.0</td>\n",
       "      <td>0</td>\n",
       "    </tr>\n",
       "    <tr>\n",
       "      <th>1</th>\n",
       "      <td>2</td>\n",
       "      <td>5</td>\n",
       "      <td>2015-07-31</td>\n",
       "      <td>6064</td>\n",
       "      <td>625</td>\n",
       "      <td>1</td>\n",
       "      <td>1</td>\n",
       "      <td>0</td>\n",
       "      <td>1</td>\n",
       "      <td>a</td>\n",
       "      <td>a</td>\n",
       "      <td>570.0</td>\n",
       "      <td>11.0</td>\n",
       "      <td>2007.0</td>\n",
       "      <td>1</td>\n",
       "      <td>13.0</td>\n",
       "      <td>2010.0</td>\n",
       "      <td>Jan,Apr,Jul,Oct</td>\n",
       "    </tr>\n",
       "    <tr>\n",
       "      <th>2</th>\n",
       "      <td>3</td>\n",
       "      <td>5</td>\n",
       "      <td>2015-07-31</td>\n",
       "      <td>8314</td>\n",
       "      <td>821</td>\n",
       "      <td>1</td>\n",
       "      <td>1</td>\n",
       "      <td>0</td>\n",
       "      <td>1</td>\n",
       "      <td>a</td>\n",
       "      <td>a</td>\n",
       "      <td>14130.0</td>\n",
       "      <td>12.0</td>\n",
       "      <td>2006.0</td>\n",
       "      <td>1</td>\n",
       "      <td>14.0</td>\n",
       "      <td>2011.0</td>\n",
       "      <td>Jan,Apr,Jul,Oct</td>\n",
       "    </tr>\n",
       "    <tr>\n",
       "      <th>3</th>\n",
       "      <td>4</td>\n",
       "      <td>5</td>\n",
       "      <td>2015-07-31</td>\n",
       "      <td>13995</td>\n",
       "      <td>1498</td>\n",
       "      <td>1</td>\n",
       "      <td>1</td>\n",
       "      <td>0</td>\n",
       "      <td>1</td>\n",
       "      <td>c</td>\n",
       "      <td>c</td>\n",
       "      <td>620.0</td>\n",
       "      <td>9.0</td>\n",
       "      <td>2009.0</td>\n",
       "      <td>0</td>\n",
       "      <td>0.0</td>\n",
       "      <td>0.0</td>\n",
       "      <td>0</td>\n",
       "    </tr>\n",
       "    <tr>\n",
       "      <th>4</th>\n",
       "      <td>5</td>\n",
       "      <td>5</td>\n",
       "      <td>2015-07-31</td>\n",
       "      <td>4822</td>\n",
       "      <td>559</td>\n",
       "      <td>1</td>\n",
       "      <td>1</td>\n",
       "      <td>0</td>\n",
       "      <td>1</td>\n",
       "      <td>a</td>\n",
       "      <td>a</td>\n",
       "      <td>29910.0</td>\n",
       "      <td>4.0</td>\n",
       "      <td>2015.0</td>\n",
       "      <td>0</td>\n",
       "      <td>0.0</td>\n",
       "      <td>0.0</td>\n",
       "      <td>0</td>\n",
       "    </tr>\n",
       "  </tbody>\n",
       "</table>\n",
       "</div>"
      ],
      "text/plain": [
       "   Store  DayOfWeek        Date  Sales  Customers  Open  Promo StateHoliday  \\\n",
       "0      1          5  2015-07-31   5263        555     1      1            0   \n",
       "1      2          5  2015-07-31   6064        625     1      1            0   \n",
       "2      3          5  2015-07-31   8314        821     1      1            0   \n",
       "3      4          5  2015-07-31  13995       1498     1      1            0   \n",
       "4      5          5  2015-07-31   4822        559     1      1            0   \n",
       "\n",
       "   SchoolHoliday StoreType Assortment  CompetitionDistance  \\\n",
       "0              1         c          a               1270.0   \n",
       "1              1         a          a                570.0   \n",
       "2              1         a          a              14130.0   \n",
       "3              1         c          c                620.0   \n",
       "4              1         a          a              29910.0   \n",
       "\n",
       "   CompetitionOpenSinceMonth  CompetitionOpenSinceYear  Promo2  \\\n",
       "0                        9.0                    2008.0       0   \n",
       "1                       11.0                    2007.0       1   \n",
       "2                       12.0                    2006.0       1   \n",
       "3                        9.0                    2009.0       0   \n",
       "4                        4.0                    2015.0       0   \n",
       "\n",
       "   Promo2SinceWeek  Promo2SinceYear    PromoInterval  \n",
       "0              0.0              0.0                0  \n",
       "1             13.0           2010.0  Jan,Apr,Jul,Oct  \n",
       "2             14.0           2011.0  Jan,Apr,Jul,Oct  \n",
       "3              0.0              0.0                0  \n",
       "4              0.0              0.0                0  "
      ]
     },
     "execution_count": 44,
     "metadata": {},
     "output_type": "execute_result"
    }
   ],
   "source": [
    "df_train_store.head() "
   ]
  },
  {
   "cell_type": "code",
   "execution_count": 45,
   "id": "e413d119",
   "metadata": {},
   "outputs": [],
   "source": [
    "df_train_store.to_csv('../data/CleanStoreTrain.csv',index=False)"
   ]
  },
  {
   "cell_type": "code",
   "execution_count": 46,
   "id": "2890713a",
   "metadata": {},
   "outputs": [],
   "source": [
    "df_train.to_csv('../data/train.csv',index=False)"
   ]
  },
  {
   "cell_type": "code",
   "execution_count": 47,
   "id": "c7a5bc40",
   "metadata": {},
   "outputs": [],
   "source": [
    "df_store.to_csv('../data/store.csv',index=False)"
   ]
  },
  {
   "cell_type": "code",
   "execution_count": 50,
   "id": "08f2fd78",
   "metadata": {},
   "outputs": [],
   "source": [
    "def plot_bar(df: pd.DataFrame, x_col: str, y_col: str, title: str, xlabel: str, ylabel: str) -> None:\n",
    "    plt.figure(figsize=(9, 7))\n",
    "    sns.barplot(data=df, x=x_col, y=y_col)\n",
    "    plt.title(title, size=18)\n",
    "    plt.xticks(rotation=60, fontsize=14)\n",
    "    plt.yticks(fontsize=14)\n",
    "    plt.xlabel(xlabel, fontsize=16)\n",
    "    plt.ylabel(ylabel, fontsize=16)\n",
    "    plt.show()"
   ]
  },
  {
   "cell_type": "code",
   "execution_count": 51,
   "id": "26ceb60d",
   "metadata": {},
   "outputs": [
    {
     "data": {
      "image/png": "[encoded data removed]",
      "text/plain": [
       "<Figure size 648x504 with 1 Axes>"
      ]
     },
     "metadata": {
      "needs_background": "light"
     },
     "output_type": "display_data"
    }
   ],
   "source": [
    "school_df_agg = df_train_store.groupby(\"SchoolHoliday\").agg({\"Sales\": \"mean\"}).rename(index={0: \"School Holiday\", 1:\"No School Holiday\"})\n",
    "plot_bar(school_df_agg, school_df_agg.index, \"Sales\", \"Avg sales on school holiday vs non school holiday\",\n",
    "               \"Holiday\", \"Avg Sales\")\n"
   ]
  },
  {
   "cell_type": "markdown",
   "id": "ba7bb4c5",
   "metadata": {},
   "source": [
    "- the overall avg sales non school holiday is a little bit higher"
   ]
  },
  {
   "cell_type": "code",
   "execution_count": 52,
   "id": "f1368a3c",
   "metadata": {},
   "outputs": [
    {
     "data": {
      "image/png": "[encoded data removed]",
      "text/plain": [
       "<Figure size 648x504 with 1 Axes>"
      ]
     },
     "metadata": {
      "needs_background": "light"
     },
     "output_type": "display_data"
    },
    {
     "data": {
      "image/png": "[encoded data removed]",
      "text/plain": [
       "<Figure size 648x504 with 1 Axes>"
      ]
     },
     "metadata": {
      "needs_background": "light"
     },
     "output_type": "display_data"
    }
   ],
   "source": [
    "no_state_holday = df_train_store.query(\"not (StateHoliday != 0 & StateHoliday != '0')\")\n",
    "state_holday_df = df_train_store.query(\"StateHoliday == 0 | StateHoliday == '0'\")\n",
    "\n",
    "no_state_holiday_agg = no_state_holday.groupby(\"StoreType\").agg({\"Sales\": \"mean\"})\n",
    "state_holday_df_agg = state_holday_df.groupby(\"StoreType\").agg({\"Sales\": \"mean\"})\n",
    "\n",
    "\n",
    "\n",
    "plot_bar(no_state_holiday_agg, no_state_holiday_agg.index, \"Sales\", \"Avg sales on non-state-holiday\",\n",
    "               \"Store Type\", \"Avg Sales\")\n",
    "\n",
    "plot_bar(state_holday_df_agg, state_holday_df_agg.index, \"Sales\", \"Avg sales on state holiday\",\n",
    "               \"Store Type\", \"Avg Sales\")"
   ]
  },
  {
   "cell_type": "code",
   "execution_count": 53,
   "id": "c3b9ecb8",
   "metadata": {},
   "outputs": [],
   "source": [
    "#because the stateholiday has two types of 0's (one is string and the other is int) we need to change it to the same data format\n",
    "df_train_store['StateHoliday'] = df_train_store['StateHoliday'].astype('str')"
   ]
  },
  {
   "cell_type": "code",
   "execution_count": 54,
   "id": "08fbf3ec",
   "metadata": {},
   "outputs": [
    {
     "data": {
      "image/png": "[encoded data removed]",
      "text/plain": [
       "<Figure size 648x504 with 1 Axes>"
      ]
     },
     "metadata": {
      "needs_background": "light"
     },
     "output_type": "display_data"
    },
    {
     "data": {
      "text/html": [
       "<div>\n",
       "<style scoped>\n",
       "    .dataframe tbody tr th:only-of-type {\n",
       "        vertical-align: middle;\n",
       "    }\n",
       "\n",
       "    .dataframe tbody tr th {\n",
       "        vertical-align: top;\n",
       "    }\n",
       "\n",
       "    .dataframe thead th {\n",
       "        text-align: right;\n",
       "    }\n",
       "</style>\n",
       "<table border=\"1\" class=\"dataframe\">\n",
       "  <thead>\n",
       "    <tr style=\"text-align: right;\">\n",
       "      <th></th>\n",
       "      <th>Sales</th>\n",
       "    </tr>\n",
       "    <tr>\n",
       "      <th>StateHoliday</th>\n",
       "      <th></th>\n",
       "    </tr>\n",
       "  </thead>\n",
       "  <tbody>\n",
       "    <tr>\n",
       "      <th>No holiday</th>\n",
       "      <td>6953.960229</td>\n",
       "    </tr>\n",
       "    <tr>\n",
       "      <th>Public holiday</th>\n",
       "      <td>8487.471182</td>\n",
       "    </tr>\n",
       "    <tr>\n",
       "      <th>Easter</th>\n",
       "      <td>9887.889655</td>\n",
       "    </tr>\n",
       "    <tr>\n",
       "      <th>Christmas</th>\n",
       "      <td>9743.746479</td>\n",
       "    </tr>\n",
       "  </tbody>\n",
       "</table>\n",
       "</div>"
      ],
      "text/plain": [
       "                      Sales\n",
       "StateHoliday               \n",
       "No holiday      6953.960229\n",
       "Public holiday  8487.471182\n",
       "Easter          9887.889655\n",
       "Christmas       9743.746479"
      ]
     },
     "execution_count": 54,
     "metadata": {},
     "output_type": "execute_result"
    }
   ],
   "source": [
    "state_hoilday_comparsion = df_train_store.groupby(\"StateHoliday\").agg({\"Sales\": \"mean\"})\n",
    "state_hoilday_comparsion = state_hoilday_comparsion.rename(index={\"0\": \"No holiday\", \"a\": \"Public holiday\",\n",
    "                                                                    \"b\": \"Easter\", \"c\": \"Christmas\"})\n",
    "\n",
    "plot_bar(state_hoilday_comparsion, state_hoilday_comparsion.index, \"Sales\", \"Sales on state holiday comparision\",\n",
    "               \"State Hoilday Type\", \"Avg Sales\")\n",
    "state_hoilday_comparsion\n"
   ]
  },
  {
   "cell_type": "markdown",
   "id": "6284f8f2",
   "metadata": {},
   "source": [
    "### Store Type Analysis:"
   ]
  },
  {
   "cell_type": "markdown",
   "id": "77354296",
   "metadata": {},
   "source": [
    "The best way to asses the performance of a store type is to see what is the sales per customer so that we normalize everything and we get the store that makes its customers spend the most on average.\n",
    "\n",
    "Let's compare first the total sales of each store type, its average sales and then see how it changes when we add the customers to the equation:"
   ]
  },
  {
   "cell_type": "code",
   "execution_count": 55,
   "id": "aeb97903",
   "metadata": {},
   "outputs": [],
   "source": [
    "df_train_store['SalesperCustomer']=df_train_store['Sales']/df_train_store['Customers']"
   ]
  },
  {
   "cell_type": "code",
   "execution_count": 56,
   "id": "49bfb24d",
   "metadata": {},
   "outputs": [
    {
     "data": {
      "text/html": [
       "<div>\n",
       "<style scoped>\n",
       "    .dataframe tbody tr th:only-of-type {\n",
       "        vertical-align: middle;\n",
       "    }\n",
       "\n",
       "    .dataframe tbody tr th {\n",
       "        vertical-align: top;\n",
       "    }\n",
       "\n",
       "    .dataframe thead th {\n",
       "        text-align: right;\n",
       "    }\n",
       "</style>\n",
       "<table border=\"1\" class=\"dataframe\">\n",
       "  <thead>\n",
       "    <tr style=\"text-align: right;\">\n",
       "      <th></th>\n",
       "      <th>Store</th>\n",
       "      <th>DayOfWeek</th>\n",
       "      <th>Date</th>\n",
       "      <th>Sales</th>\n",
       "      <th>Customers</th>\n",
       "      <th>Open</th>\n",
       "      <th>Promo</th>\n",
       "      <th>StateHoliday</th>\n",
       "      <th>SchoolHoliday</th>\n",
       "      <th>StoreType</th>\n",
       "      <th>Assortment</th>\n",
       "      <th>CompetitionDistance</th>\n",
       "      <th>CompetitionOpenSinceMonth</th>\n",
       "      <th>CompetitionOpenSinceYear</th>\n",
       "      <th>Promo2</th>\n",
       "      <th>Promo2SinceWeek</th>\n",
       "      <th>Promo2SinceYear</th>\n",
       "      <th>PromoInterval</th>\n",
       "      <th>SalesperCustomer</th>\n",
       "    </tr>\n",
       "  </thead>\n",
       "  <tbody>\n",
       "    <tr>\n",
       "      <th>0</th>\n",
       "      <td>1</td>\n",
       "      <td>5</td>\n",
       "      <td>2015-07-31</td>\n",
       "      <td>5263</td>\n",
       "      <td>555</td>\n",
       "      <td>1</td>\n",
       "      <td>1</td>\n",
       "      <td>0</td>\n",
       "      <td>1</td>\n",
       "      <td>c</td>\n",
       "      <td>a</td>\n",
       "      <td>1270.0</td>\n",
       "      <td>9.0</td>\n",
       "      <td>2008.0</td>\n",
       "      <td>0</td>\n",
       "      <td>0.0</td>\n",
       "      <td>0.0</td>\n",
       "      <td>0</td>\n",
       "      <td>9.482883</td>\n",
       "    </tr>\n",
       "    <tr>\n",
       "      <th>1</th>\n",
       "      <td>2</td>\n",
       "      <td>5</td>\n",
       "      <td>2015-07-31</td>\n",
       "      <td>6064</td>\n",
       "      <td>625</td>\n",
       "      <td>1</td>\n",
       "      <td>1</td>\n",
       "      <td>0</td>\n",
       "      <td>1</td>\n",
       "      <td>a</td>\n",
       "      <td>a</td>\n",
       "      <td>570.0</td>\n",
       "      <td>11.0</td>\n",
       "      <td>2007.0</td>\n",
       "      <td>1</td>\n",
       "      <td>13.0</td>\n",
       "      <td>2010.0</td>\n",
       "      <td>Jan,Apr,Jul,Oct</td>\n",
       "      <td>9.702400</td>\n",
       "    </tr>\n",
       "    <tr>\n",
       "      <th>2</th>\n",
       "      <td>3</td>\n",
       "      <td>5</td>\n",
       "      <td>2015-07-31</td>\n",
       "      <td>8314</td>\n",
       "      <td>821</td>\n",
       "      <td>1</td>\n",
       "      <td>1</td>\n",
       "      <td>0</td>\n",
       "      <td>1</td>\n",
       "      <td>a</td>\n",
       "      <td>a</td>\n",
       "      <td>14130.0</td>\n",
       "      <td>12.0</td>\n",
       "      <td>2006.0</td>\n",
       "      <td>1</td>\n",
       "      <td>14.0</td>\n",
       "      <td>2011.0</td>\n",
       "      <td>Jan,Apr,Jul,Oct</td>\n",
       "      <td>10.126675</td>\n",
       "    </tr>\n",
       "    <tr>\n",
       "      <th>3</th>\n",
       "      <td>4</td>\n",
       "      <td>5</td>\n",
       "      <td>2015-07-31</td>\n",
       "      <td>13995</td>\n",
       "      <td>1498</td>\n",
       "      <td>1</td>\n",
       "      <td>1</td>\n",
       "      <td>0</td>\n",
       "      <td>1</td>\n",
       "      <td>c</td>\n",
       "      <td>c</td>\n",
       "      <td>620.0</td>\n",
       "      <td>9.0</td>\n",
       "      <td>2009.0</td>\n",
       "      <td>0</td>\n",
       "      <td>0.0</td>\n",
       "      <td>0.0</td>\n",
       "      <td>0</td>\n",
       "      <td>9.342457</td>\n",
       "    </tr>\n",
       "    <tr>\n",
       "      <th>4</th>\n",
       "      <td>5</td>\n",
       "      <td>5</td>\n",
       "      <td>2015-07-31</td>\n",
       "      <td>4822</td>\n",
       "      <td>559</td>\n",
       "      <td>1</td>\n",
       "      <td>1</td>\n",
       "      <td>0</td>\n",
       "      <td>1</td>\n",
       "      <td>a</td>\n",
       "      <td>a</td>\n",
       "      <td>29910.0</td>\n",
       "      <td>4.0</td>\n",
       "      <td>2015.0</td>\n",
       "      <td>0</td>\n",
       "      <td>0.0</td>\n",
       "      <td>0.0</td>\n",
       "      <td>0</td>\n",
       "      <td>8.626118</td>\n",
       "    </tr>\n",
       "  </tbody>\n",
       "</table>\n",
       "</div>"
      ],
      "text/plain": [
       "   Store  DayOfWeek        Date  Sales  Customers  Open  Promo StateHoliday  \\\n",
       "0      1          5  2015-07-31   5263        555     1      1            0   \n",
       "1      2          5  2015-07-31   6064        625     1      1            0   \n",
       "2      3          5  2015-07-31   8314        821     1      1            0   \n",
       "3      4          5  2015-07-31  13995       1498     1      1            0   \n",
       "4      5          5  2015-07-31   4822        559     1      1            0   \n",
       "\n",
       "   SchoolHoliday StoreType Assortment  CompetitionDistance  \\\n",
       "0              1         c          a               1270.0   \n",
       "1              1         a          a                570.0   \n",
       "2              1         a          a              14130.0   \n",
       "3              1         c          c                620.0   \n",
       "4              1         a          a              29910.0   \n",
       "\n",
       "   CompetitionOpenSinceMonth  CompetitionOpenSinceYear  Promo2  \\\n",
       "0                        9.0                    2008.0       0   \n",
       "1                       11.0                    2007.0       1   \n",
       "2                       12.0                    2006.0       1   \n",
       "3                        9.0                    2009.0       0   \n",
       "4                        4.0                    2015.0       0   \n",
       "\n",
       "   Promo2SinceWeek  Promo2SinceYear    PromoInterval  SalesperCustomer  \n",
       "0              0.0              0.0                0          9.482883  \n",
       "1             13.0           2010.0  Jan,Apr,Jul,Oct          9.702400  \n",
       "2             14.0           2011.0  Jan,Apr,Jul,Oct         10.126675  \n",
       "3              0.0              0.0                0          9.342457  \n",
       "4              0.0              0.0                0          8.626118  "
      ]
     },
     "execution_count": 56,
     "metadata": {},
     "output_type": "execute_result"
    }
   ],
   "source": [
    "df_train_store.head()"
   ]
  },
  {
   "cell_type": "code",
   "execution_count": 57,
   "id": "fd3ddfab",
   "metadata": {},
   "outputs": [
    {
     "data": {
      "image/png": "[encoded data removed]",
      "text/plain": [
       "<Figure size 1224x720 with 6 Axes>"
      ]
     },
     "metadata": {
      "needs_background": "light"
     },
     "output_type": "display_data"
    }
   ],
   "source": [
    "fig, axes = plt.subplots(2, 3,figsize=(17,10) )\n",
    "palette = itertools.cycle(sns.color_palette(n_colors=4))\n",
    "plt.subplots_adjust(hspace = 0.28)\n",
    "#axes[1].df_train_store.groupby(by=\"StoreType\").count().Store.plot(kind='bar')\n",
    "axes[0,0].bar(df_store.groupby(by=\"StoreType\").count().Store.index,df_store.groupby(by=\"StoreType\").count().Store,color=[next(palette),next(palette),next(palette),next(palette)])\n",
    "axes[0,0].set_title(\"Number of Stores per Store Type \\n Fig 1.1\")\n",
    "axes[0,1].bar(df_train_store.groupby(by=\"StoreType\").sum().Sales.index,df_train_store.groupby(by=\"StoreType\").sum().Sales/1e9,color=[next(palette),next(palette),next(palette),next(palette)])\n",
    "axes[0,1].set_title(\"Total Sales per Store Type (in Billions) \\n Fig 1.2\")\n",
    "axes[0,2].bar(df_train_store.groupby(by=\"StoreType\").sum().Customers.index,df_train_store.groupby(by=\"StoreType\").sum().Customers/1e6,color=[next(palette),next(palette),next(palette),next(palette)])\n",
    "axes[0,2].set_title(\"Total Number of Customers per Store Type (in Millions) \\n Fig 1.3\")\n",
    "axes[1,0].bar(df_train_store.groupby(by=\"StoreType\").sum().Customers.index,df_train_store.groupby(by=\"StoreType\").Sales.mean(),color=[next(palette),next(palette),next(palette),next(palette)])\n",
    "axes[1,0].set_title(\"Average Sales per Store Type \\n Fig 1.4\")\n",
    "axes[1,1].bar(df_train_store.groupby(by=\"StoreType\").sum().Customers.index,df_train_store.groupby(by=\"StoreType\").Customers.mean(),color=[next(palette),next(palette),next(palette),next(palette)])\n",
    "axes[1,1].set_title(\"Average Number of Customers per Store Type \\n Fig 1.5\")\n",
    "axes[1,2].bar(df_train_store.groupby(by=\"StoreType\").sum().Sales.index,df_train_store.groupby(by=\"StoreType\").SalesperCustomer.mean(),color=[next(palette),next(palette),next(palette),next(palette)])\n",
    "axes[1,2].set_title(\"Average Spending per Customer in each Store Type \\n Fig 1.6\")\n",
    "plt.show()"
   ]
  },
  {
   "cell_type": "markdown",
   "id": "ded51847",
   "metadata": {},
   "source": [
    "#### Findings\n",
    "\n",
    "    * From this training set we can see that Storetype A has the highest number of branches,sales and customers from the 4  different storetypes.\n",
    "    * From this training set we can see that Storetype A has the highest number of branches,sales and customers from the 4  different storetypes.\n",
    "    * it is StoreType D who has the highest average spending per Customer,"
   ]
  },
  {
   "cell_type": "markdown",
   "id": "11a59f6a",
   "metadata": {},
   "source": [
    "### Assortment"
   ]
  },
  {
   "cell_type": "code",
   "execution_count": 58,
   "id": "8097ec67",
   "metadata": {},
   "outputs": [
    {
     "data": {
      "text/plain": [
       "StoreType  Assortment\n",
       "a          a             381\n",
       "           c             221\n",
       "b          a               7\n",
       "           b               9\n",
       "           c               1\n",
       "c          a              77\n",
       "           c              71\n",
       "d          a             128\n",
       "           c             220\n",
       "Name: Assortment, dtype: int64"
      ]
     },
     "execution_count": 58,
     "metadata": {},
     "output_type": "execute_result"
    },
    {
     "data": {
      "image/png": "[encoded data removed]",
      "text/plain": [
       "<Figure size 432x288 with 1 Axes>"
      ]
     },
     "metadata": {
      "needs_background": "light"
     },
     "output_type": "display_data"
    }
   ],
   "source": [
    "StoretypeXAssortment = sns.countplot(x=\"StoreType\",hue=\"Assortment\",order=[\"a\",\"b\",\"c\",\"d\"], data=df_store,palette=sns.color_palette(\"Set2\", n_colors=3)).set_title(\"Number of Different Assortments per Store Type\")\n",
    "df_store.groupby(by=[\"StoreType\",\"Assortment\"]).Assortment.count()"
   ]
  },
  {
   "cell_type": "code",
   "execution_count": 59,
   "id": "77f4ce74",
   "metadata": {},
   "outputs": [
    {
     "data": {
      "image/png": "[encoded data removed]",
      "text/plain": [
       "<Figure size 1224x720 with 6 Axes>"
      ]
     },
     "metadata": {
      "needs_background": "light"
     },
     "output_type": "display_data"
    }
   ],
   "source": [
    "fig, axes = plt.subplots(2, 3,figsize=(17,10) )\n",
    "palette = itertools.cycle(sns.color_palette(n_colors=4))\n",
    "plt.subplots_adjust(hspace = 0.28)\n",
    "#axes[1].df_train_store.groupby(by=\"StoreType\").count().Store.plot(kind='bar')\n",
    "axes[0,0].bar(df_store.groupby(by=\"Assortment\").count().Store.index,df_store.groupby(by=\"Assortment\").count().Store,color=[next(palette),next(palette),next(palette),next(palette)])\n",
    "axes[0,0].set_title(\"Number of Stores per Assortment \\n Fig 2.1\")\n",
    "axes[0,1].bar(df_train_store.groupby(by=\"Assortment\").sum().Sales.index,df_train_store.groupby(by=\"Assortment\").sum().Sales/1e9,color=[next(palette),next(palette),next(palette),next(palette)])\n",
    "axes[0,1].set_title(\"Total Sales per Assortment (in Billions) \\n Fig 2.2\")\n",
    "axes[0,2].bar(df_train_store.groupby(by=\"Assortment\").sum().Customers.index,df_train_store.groupby(by=\"Assortment\").sum().Customers/1e6,color=[next(palette),next(palette),next(palette),next(palette)])\n",
    "axes[0,2].set_title(\"Total Number of Customers per Assortment (in Millions) \\n Fig 2.3\")\n",
    "axes[1,0].bar(df_train_store.groupby(by=\"Assortment\").sum().Customers.index,df_train_store.groupby(by=\"Assortment\").Sales.mean(),color=[next(palette),next(palette),next(palette),next(palette)])\n",
    "axes[1,0].set_title(\"Average Sales per Assortment Type \\n Fig 2.4\")\n",
    "axes[1,1].bar(df_train_store.groupby(by=\"Assortment\").sum().Customers.index,df_train_store.groupby(by=\"Assortment\").Customers.mean(),color=[next(palette),next(palette),next(palette),next(palette)])\n",
    "axes[1,1].set_title(\"Average Number of Customers per Assortment Type \\n Fig 2.5\")\n",
    "axes[1,2].bar(df_train_store.groupby(by=\"Assortment\").sum().Sales.index,df_train_store.groupby(by=\"Assortment\").SalesperCustomer.mean(),color=[next(palette),next(palette),next(palette),next(palette)])\n",
    "axes[1,2].set_title(\"Average Spending per Customer in each Assortment Type \\n Fig 2.6\")\n",
    "plt.show()"
   ]
  },
  {
   "cell_type": "markdown",
   "id": "f7126926",
   "metadata": {},
   "source": [
    "#### Findings\n",
    "    * We can clearly see here that most of the stores have either a assortment type or c assortment type.\n",
    "    * Interestingly enough StoreType d which has the highest Sales per customer average actually has mostly c assortment type, this is most probably the reason for having this high average in Sales per customer.Having variery in stores always increases the customers spending pattern.\n",
    "    *Another important factor here is the fact that store type b is the only one who has the b assortment type and a lot of them actually which stands for \"extra\" and by looking at fig 1.4 and 1.5 he's the one who has the highest number of customers and sales. Probably this formula of extra is the right middlepoint for customers between not too much variety like C assortment and not too basic like A assortment and this is what is driving the high traffic in this store."
   ]
  },
  {
   "cell_type": "markdown",
   "id": "8a46d1fa",
   "metadata": {},
   "source": [
    "### Promotion:"
   ]
  },
  {
   "cell_type": "code",
   "execution_count": 60,
   "id": "77c71fb7",
   "metadata": {},
   "outputs": [],
   "source": [
    "df_train_store['Date']=pd.to_datetime(df_train_store['Date'],errors='coerce')"
   ]
  },
  {
   "cell_type": "code",
   "execution_count": 61,
   "id": "58b84543",
   "metadata": {},
   "outputs": [],
   "source": [
    "df_train_store['Month']=df_train_store.Date.dt.month\n",
    "df_train_store['Year']=df_train_store.Date.dt.year"
   ]
  },
  {
   "cell_type": "code",
   "execution_count": 62,
   "id": "7e307b91",
   "metadata": {},
   "outputs": [
    {
     "data": {
      "text/html": [
       "<div>\n",
       "<style scoped>\n",
       "    .dataframe tbody tr th:only-of-type {\n",
       "        vertical-align: middle;\n",
       "    }\n",
       "\n",
       "    .dataframe tbody tr th {\n",
       "        vertical-align: top;\n",
       "    }\n",
       "\n",
       "    .dataframe thead th {\n",
       "        text-align: right;\n",
       "    }\n",
       "</style>\n",
       "<table border=\"1\" class=\"dataframe\">\n",
       "  <thead>\n",
       "    <tr style=\"text-align: right;\">\n",
       "      <th></th>\n",
       "      <th>Store</th>\n",
       "      <th>DayOfWeek</th>\n",
       "      <th>Date</th>\n",
       "      <th>Sales</th>\n",
       "      <th>Customers</th>\n",
       "      <th>Open</th>\n",
       "      <th>Promo</th>\n",
       "      <th>StateHoliday</th>\n",
       "      <th>SchoolHoliday</th>\n",
       "      <th>StoreType</th>\n",
       "      <th>...</th>\n",
       "      <th>CompetitionDistance</th>\n",
       "      <th>CompetitionOpenSinceMonth</th>\n",
       "      <th>CompetitionOpenSinceYear</th>\n",
       "      <th>Promo2</th>\n",
       "      <th>Promo2SinceWeek</th>\n",
       "      <th>Promo2SinceYear</th>\n",
       "      <th>PromoInterval</th>\n",
       "      <th>SalesperCustomer</th>\n",
       "      <th>Month</th>\n",
       "      <th>Year</th>\n",
       "    </tr>\n",
       "  </thead>\n",
       "  <tbody>\n",
       "    <tr>\n",
       "      <th>0</th>\n",
       "      <td>1</td>\n",
       "      <td>5</td>\n",
       "      <td>2015-07-31</td>\n",
       "      <td>5263</td>\n",
       "      <td>555</td>\n",
       "      <td>1</td>\n",
       "      <td>1</td>\n",
       "      <td>0</td>\n",
       "      <td>1</td>\n",
       "      <td>c</td>\n",
       "      <td>...</td>\n",
       "      <td>1270.0</td>\n",
       "      <td>9.0</td>\n",
       "      <td>2008.0</td>\n",
       "      <td>0</td>\n",
       "      <td>0.0</td>\n",
       "      <td>0.0</td>\n",
       "      <td>0</td>\n",
       "      <td>9.482883</td>\n",
       "      <td>7</td>\n",
       "      <td>2015</td>\n",
       "    </tr>\n",
       "    <tr>\n",
       "      <th>1</th>\n",
       "      <td>2</td>\n",
       "      <td>5</td>\n",
       "      <td>2015-07-31</td>\n",
       "      <td>6064</td>\n",
       "      <td>625</td>\n",
       "      <td>1</td>\n",
       "      <td>1</td>\n",
       "      <td>0</td>\n",
       "      <td>1</td>\n",
       "      <td>a</td>\n",
       "      <td>...</td>\n",
       "      <td>570.0</td>\n",
       "      <td>11.0</td>\n",
       "      <td>2007.0</td>\n",
       "      <td>1</td>\n",
       "      <td>13.0</td>\n",
       "      <td>2010.0</td>\n",
       "      <td>Jan,Apr,Jul,Oct</td>\n",
       "      <td>9.702400</td>\n",
       "      <td>7</td>\n",
       "      <td>2015</td>\n",
       "    </tr>\n",
       "    <tr>\n",
       "      <th>2</th>\n",
       "      <td>3</td>\n",
       "      <td>5</td>\n",
       "      <td>2015-07-31</td>\n",
       "      <td>8314</td>\n",
       "      <td>821</td>\n",
       "      <td>1</td>\n",
       "      <td>1</td>\n",
       "      <td>0</td>\n",
       "      <td>1</td>\n",
       "      <td>a</td>\n",
       "      <td>...</td>\n",
       "      <td>14130.0</td>\n",
       "      <td>12.0</td>\n",
       "      <td>2006.0</td>\n",
       "      <td>1</td>\n",
       "      <td>14.0</td>\n",
       "      <td>2011.0</td>\n",
       "      <td>Jan,Apr,Jul,Oct</td>\n",
       "      <td>10.126675</td>\n",
       "      <td>7</td>\n",
       "      <td>2015</td>\n",
       "    </tr>\n",
       "    <tr>\n",
       "      <th>3</th>\n",
       "      <td>4</td>\n",
       "      <td>5</td>\n",
       "      <td>2015-07-31</td>\n",
       "      <td>13995</td>\n",
       "      <td>1498</td>\n",
       "      <td>1</td>\n",
       "      <td>1</td>\n",
       "      <td>0</td>\n",
       "      <td>1</td>\n",
       "      <td>c</td>\n",
       "      <td>...</td>\n",
       "      <td>620.0</td>\n",
       "      <td>9.0</td>\n",
       "      <td>2009.0</td>\n",
       "      <td>0</td>\n",
       "      <td>0.0</td>\n",
       "      <td>0.0</td>\n",
       "      <td>0</td>\n",
       "      <td>9.342457</td>\n",
       "      <td>7</td>\n",
       "      <td>2015</td>\n",
       "    </tr>\n",
       "    <tr>\n",
       "      <th>4</th>\n",
       "      <td>5</td>\n",
       "      <td>5</td>\n",
       "      <td>2015-07-31</td>\n",
       "      <td>4822</td>\n",
       "      <td>559</td>\n",
       "      <td>1</td>\n",
       "      <td>1</td>\n",
       "      <td>0</td>\n",
       "      <td>1</td>\n",
       "      <td>a</td>\n",
       "      <td>...</td>\n",
       "      <td>29910.0</td>\n",
       "      <td>4.0</td>\n",
       "      <td>2015.0</td>\n",
       "      <td>0</td>\n",
       "      <td>0.0</td>\n",
       "      <td>0.0</td>\n",
       "      <td>0</td>\n",
       "      <td>8.626118</td>\n",
       "      <td>7</td>\n",
       "      <td>2015</td>\n",
       "    </tr>\n",
       "  </tbody>\n",
       "</table>\n",
       "<p>5 rows × 21 columns</p>\n",
       "</div>"
      ],
      "text/plain": [
       "   Store  DayOfWeek       Date  Sales  Customers  Open  Promo StateHoliday  \\\n",
       "0      1          5 2015-07-31   5263        555     1      1            0   \n",
       "1      2          5 2015-07-31   6064        625     1      1            0   \n",
       "2      3          5 2015-07-31   8314        821     1      1            0   \n",
       "3      4          5 2015-07-31  13995       1498     1      1            0   \n",
       "4      5          5 2015-07-31   4822        559     1      1            0   \n",
       "\n",
       "   SchoolHoliday StoreType  ... CompetitionDistance  \\\n",
       "0              1         c  ...              1270.0   \n",
       "1              1         a  ...               570.0   \n",
       "2              1         a  ...             14130.0   \n",
       "3              1         c  ...               620.0   \n",
       "4              1         a  ...             29910.0   \n",
       "\n",
       "   CompetitionOpenSinceMonth  CompetitionOpenSinceYear  Promo2  \\\n",
       "0                        9.0                    2008.0       0   \n",
       "1                       11.0                    2007.0       1   \n",
       "2                       12.0                    2006.0       1   \n",
       "3                        9.0                    2009.0       0   \n",
       "4                        4.0                    2015.0       0   \n",
       "\n",
       "   Promo2SinceWeek  Promo2SinceYear    PromoInterval SalesperCustomer  Month  \\\n",
       "0              0.0              0.0                0         9.482883      7   \n",
       "1             13.0           2010.0  Jan,Apr,Jul,Oct         9.702400      7   \n",
       "2             14.0           2011.0  Jan,Apr,Jul,Oct        10.126675      7   \n",
       "3              0.0              0.0                0         9.342457      7   \n",
       "4              0.0              0.0                0         8.626118      7   \n",
       "\n",
       "   Year  \n",
       "0  2015  \n",
       "1  2015  \n",
       "2  2015  \n",
       "3  2015  \n",
       "4  2015  \n",
       "\n",
       "[5 rows x 21 columns]"
      ]
     },
     "execution_count": 62,
     "metadata": {},
     "output_type": "execute_result"
    }
   ],
   "source": [
    "df_train_store.head()"
   ]
  },
  {
   "cell_type": "code",
   "execution_count": 63,
   "id": "f3dee4a6",
   "metadata": {},
   "outputs": [
    {
     "data": {
      "text/plain": [
       "<seaborn.axisgrid.FacetGrid at 0x19e18ff5820>"
      ]
     },
     "execution_count": 63,
     "metadata": {},
     "output_type": "execute_result"
    },
    {
     "data": {
      "image/png": "[encoded data removed]",
      "text/plain": [
       "<Figure size 765.75x1080 with 6 Axes>"
      ]
     },
     "metadata": {
      "needs_background": "light"
     },
     "output_type": "display_data"
    }
   ],
   "source": [
    "sns.factorplot(data = df_train_store, x =\"Month\", y = \"Sales\", \n",
    "               col = 'Promo', # per store type in cols\n",
    "               hue = 'Promo2',\n",
    "               row = \"Year\"\n",
    "              ,sharex=False)"
   ]
  },
  {
   "cell_type": "code",
   "execution_count": 64,
   "id": "1c7faa3e",
   "metadata": {},
   "outputs": [
    {
     "data": {
      "text/plain": [
       "<seaborn.axisgrid.FacetGrid at 0x19e185659d0>"
      ]
     },
     "execution_count": 64,
     "metadata": {},
     "output_type": "execute_result"
    },
    {
     "data": {
      "image/png": "[encoded data removed]",
      "text/plain": [
       "<Figure size 765.75x1080 with 6 Axes>"
      ]
     },
     "metadata": {
      "needs_background": "light"
     },
     "output_type": "display_data"
    }
   ],
   "source": [
    "sns.factorplot(data = df_train_store, x =\"Month\", y = \"SalesperCustomer\", \n",
    "               col = 'Promo', # per store type in cols\n",
    "               hue = 'Promo2',\n",
    "               row = \"Year\"\n",
    "              ,sharex=False)"
   ]
  },
  {
   "cell_type": "code",
   "execution_count": 65,
   "id": "ba16645c",
   "metadata": {},
   "outputs": [
    {
     "data": {
      "text/plain": [
       "<seaborn.axisgrid.FacetGrid at 0x19e191c7fd0>"
      ]
     },
     "execution_count": 65,
     "metadata": {},
     "output_type": "execute_result"
    },
    {
     "data": {
      "image/png": "[encoded data removed]",
      "text/plain": [
       "<Figure size 402.375x360 with 1 Axes>"
      ]
     },
     "metadata": {
      "needs_background": "light"
     },
     "output_type": "display_data"
    }
   ],
   "source": [
    "sns.factorplot(data = df_train_store, x =\"DayOfWeek\", y = \"Sales\",\n",
    "                hue='Promo'\n",
    "              ,sharex=False)"
   ]
  },
  {
   "cell_type": "markdown",
   "id": "ad943f1f",
   "metadata": {},
   "source": [
    "#### Findings:\n",
    "    * We see the dramatic change when we compare having promotion Promo=1 to not having promotion Promo=0 and can conclude that a store that have promotion on a given day changes its amount of sales considerably.\n",
    "    * But Surprisingly, when we check more granularly at the Promo2 variable (indicating a contunious promotion blue vs orange) we see that in general when there is no consecutive promotion stores tend to sell more then with consecutive promotion. This is probably a solution they're putting in place to treat stores with very low sales in the first place. And indeed when checking the Sales per Customer over promotion we understand that initially those stores suffer from low sales and those continuous promotion shows a tremending increase in the buying power of customers.\n",
    "    * If we look over the years,there is a slight increase Year over Year but we don't see any major change from 2013 to 2015 and we actually see a very similair pattern in the months over the years with major spikes first around Easter period in March and April then in Summer in May,June and July and then finally around the Christmas period in November and December.\n",
    "    * We see already a big difference again even on a week level (from Monday to Friday) when we seperate promotion and no promotion.We see there are no promotions during the weekend."
   ]
  },
  {
   "cell_type": "code",
   "execution_count": 66,
   "id": "d707ec87",
   "metadata": {},
   "outputs": [
    {
     "name": "stdout",
     "output_type": "stream",
     "text": [
      "Number of Stores opened on Sundays:33\n"
     ]
    }
   ],
   "source": [
    "print (\"Number of Stores opened on Sundays:{}\" .format(df_train_store[(df_train_store.Open == 1) & (df_train_store.DayOfWeek == 7)]['Store'].unique().shape[0]))"
   ]
  },
  {
   "cell_type": "code",
   "execution_count": 67,
   "id": "79bcde0d",
   "metadata": {},
   "outputs": [
    {
     "data": {
      "text/plain": [
       "<seaborn.axisgrid.FacetGrid at 0x19e184a88b0>"
      ]
     },
     "execution_count": 67,
     "metadata": {},
     "output_type": "execute_result"
    },
    {
     "data": {
      "image/png": "[encoded data removed]",
      "text/plain": [
       "<Figure size 360x360 with 1 Axes>"
      ]
     },
     "metadata": {
      "needs_background": "light"
     },
     "output_type": "display_data"
    }
   ],
   "source": [
    "sns.factorplot(data = df_train_store, x =\"DayOfWeek\", y = \"Sales\",\n",
    "              sharex=False)"
   ]
  },
  {
   "cell_type": "markdown",
   "id": "de56011f",
   "metadata": {},
   "source": [
    "#### Findings:\n",
    "    \n",
    "    * For Sunday to have such a high peak is understandable, since a very few stores opens on Sundays (only 33);if anyone needs anything urgently and don't have the time to get it during the week, he will have to do some distance to get to the open ones even if it's not close to his house. This means that those 33 open stores on Sunday actually accounts for the potential demand if all Rossman Stores were closed on Sundays. This clearly shows us how important it is for stores to be opened on Sundays.\n",
    " "
   ]
  },
  {
   "cell_type": "code",
   "execution_count": 68,
   "id": "bbeb6a8f",
   "metadata": {},
   "outputs": [],
   "source": [
    "df_train_store['CompetitionDist_Cat']=pd.cut(df_train_store['CompetitionDistance'], 5)"
   ]
  },
  {
   "cell_type": "code",
   "execution_count": 69,
   "id": "64c138fc",
   "metadata": {},
   "outputs": [
    {
     "data": {
      "text/html": [
       "<div>\n",
       "<style scoped>\n",
       "    .dataframe tbody tr th:only-of-type {\n",
       "        vertical-align: middle;\n",
       "    }\n",
       "\n",
       "    .dataframe tbody tr th {\n",
       "        vertical-align: top;\n",
       "    }\n",
       "\n",
       "    .dataframe thead th {\n",
       "        text-align: right;\n",
       "    }\n",
       "</style>\n",
       "<table border=\"1\" class=\"dataframe\">\n",
       "  <thead>\n",
       "    <tr style=\"text-align: right;\">\n",
       "      <th></th>\n",
       "      <th>Store</th>\n",
       "      <th>DayOfWeek</th>\n",
       "      <th>Date</th>\n",
       "      <th>Sales</th>\n",
       "      <th>Customers</th>\n",
       "      <th>Open</th>\n",
       "      <th>Promo</th>\n",
       "      <th>StateHoliday</th>\n",
       "      <th>SchoolHoliday</th>\n",
       "      <th>StoreType</th>\n",
       "      <th>...</th>\n",
       "      <th>CompetitionOpenSinceMonth</th>\n",
       "      <th>CompetitionOpenSinceYear</th>\n",
       "      <th>Promo2</th>\n",
       "      <th>Promo2SinceWeek</th>\n",
       "      <th>Promo2SinceYear</th>\n",
       "      <th>PromoInterval</th>\n",
       "      <th>SalesperCustomer</th>\n",
       "      <th>Month</th>\n",
       "      <th>Year</th>\n",
       "      <th>CompetitionDist_Cat</th>\n",
       "    </tr>\n",
       "  </thead>\n",
       "  <tbody>\n",
       "    <tr>\n",
       "      <th>0</th>\n",
       "      <td>1</td>\n",
       "      <td>5</td>\n",
       "      <td>2015-07-31</td>\n",
       "      <td>5263</td>\n",
       "      <td>555</td>\n",
       "      <td>1</td>\n",
       "      <td>1</td>\n",
       "      <td>0</td>\n",
       "      <td>1</td>\n",
       "      <td>c</td>\n",
       "      <td>...</td>\n",
       "      <td>9.0</td>\n",
       "      <td>2008.0</td>\n",
       "      <td>0</td>\n",
       "      <td>0.0</td>\n",
       "      <td>0.0</td>\n",
       "      <td>0</td>\n",
       "      <td>9.482883</td>\n",
       "      <td>7</td>\n",
       "      <td>2015</td>\n",
       "      <td>(-55.84, 15188.0]</td>\n",
       "    </tr>\n",
       "    <tr>\n",
       "      <th>1</th>\n",
       "      <td>2</td>\n",
       "      <td>5</td>\n",
       "      <td>2015-07-31</td>\n",
       "      <td>6064</td>\n",
       "      <td>625</td>\n",
       "      <td>1</td>\n",
       "      <td>1</td>\n",
       "      <td>0</td>\n",
       "      <td>1</td>\n",
       "      <td>a</td>\n",
       "      <td>...</td>\n",
       "      <td>11.0</td>\n",
       "      <td>2007.0</td>\n",
       "      <td>1</td>\n",
       "      <td>13.0</td>\n",
       "      <td>2010.0</td>\n",
       "      <td>Jan,Apr,Jul,Oct</td>\n",
       "      <td>9.702400</td>\n",
       "      <td>7</td>\n",
       "      <td>2015</td>\n",
       "      <td>(-55.84, 15188.0]</td>\n",
       "    </tr>\n",
       "    <tr>\n",
       "      <th>2</th>\n",
       "      <td>3</td>\n",
       "      <td>5</td>\n",
       "      <td>2015-07-31</td>\n",
       "      <td>8314</td>\n",
       "      <td>821</td>\n",
       "      <td>1</td>\n",
       "      <td>1</td>\n",
       "      <td>0</td>\n",
       "      <td>1</td>\n",
       "      <td>a</td>\n",
       "      <td>...</td>\n",
       "      <td>12.0</td>\n",
       "      <td>2006.0</td>\n",
       "      <td>1</td>\n",
       "      <td>14.0</td>\n",
       "      <td>2011.0</td>\n",
       "      <td>Jan,Apr,Jul,Oct</td>\n",
       "      <td>10.126675</td>\n",
       "      <td>7</td>\n",
       "      <td>2015</td>\n",
       "      <td>(-55.84, 15188.0]</td>\n",
       "    </tr>\n",
       "    <tr>\n",
       "      <th>3</th>\n",
       "      <td>4</td>\n",
       "      <td>5</td>\n",
       "      <td>2015-07-31</td>\n",
       "      <td>13995</td>\n",
       "      <td>1498</td>\n",
       "      <td>1</td>\n",
       "      <td>1</td>\n",
       "      <td>0</td>\n",
       "      <td>1</td>\n",
       "      <td>c</td>\n",
       "      <td>...</td>\n",
       "      <td>9.0</td>\n",
       "      <td>2009.0</td>\n",
       "      <td>0</td>\n",
       "      <td>0.0</td>\n",
       "      <td>0.0</td>\n",
       "      <td>0</td>\n",
       "      <td>9.342457</td>\n",
       "      <td>7</td>\n",
       "      <td>2015</td>\n",
       "      <td>(-55.84, 15188.0]</td>\n",
       "    </tr>\n",
       "    <tr>\n",
       "      <th>4</th>\n",
       "      <td>5</td>\n",
       "      <td>5</td>\n",
       "      <td>2015-07-31</td>\n",
       "      <td>4822</td>\n",
       "      <td>559</td>\n",
       "      <td>1</td>\n",
       "      <td>1</td>\n",
       "      <td>0</td>\n",
       "      <td>1</td>\n",
       "      <td>a</td>\n",
       "      <td>...</td>\n",
       "      <td>4.0</td>\n",
       "      <td>2015.0</td>\n",
       "      <td>0</td>\n",
       "      <td>0.0</td>\n",
       "      <td>0.0</td>\n",
       "      <td>0</td>\n",
       "      <td>8.626118</td>\n",
       "      <td>7</td>\n",
       "      <td>2015</td>\n",
       "      <td>(15188.0, 30356.0]</td>\n",
       "    </tr>\n",
       "  </tbody>\n",
       "</table>\n",
       "<p>5 rows × 22 columns</p>\n",
       "</div>"
      ],
      "text/plain": [
       "   Store  DayOfWeek       Date  Sales  Customers  Open  Promo StateHoliday  \\\n",
       "0      1          5 2015-07-31   5263        555     1      1            0   \n",
       "1      2          5 2015-07-31   6064        625     1      1            0   \n",
       "2      3          5 2015-07-31   8314        821     1      1            0   \n",
       "3      4          5 2015-07-31  13995       1498     1      1            0   \n",
       "4      5          5 2015-07-31   4822        559     1      1            0   \n",
       "\n",
       "   SchoolHoliday StoreType  ... CompetitionOpenSinceMonth  \\\n",
       "0              1         c  ...                       9.0   \n",
       "1              1         a  ...                      11.0   \n",
       "2              1         a  ...                      12.0   \n",
       "3              1         c  ...                       9.0   \n",
       "4              1         a  ...                       4.0   \n",
       "\n",
       "   CompetitionOpenSinceYear  Promo2  Promo2SinceWeek  Promo2SinceYear  \\\n",
       "0                    2008.0       0              0.0              0.0   \n",
       "1                    2007.0       1             13.0           2010.0   \n",
       "2                    2006.0       1             14.0           2011.0   \n",
       "3                    2009.0       0              0.0              0.0   \n",
       "4                    2015.0       0              0.0              0.0   \n",
       "\n",
       "     PromoInterval  SalesperCustomer Month  Year  CompetitionDist_Cat  \n",
       "0                0          9.482883     7  2015    (-55.84, 15188.0]  \n",
       "1  Jan,Apr,Jul,Oct          9.702400     7  2015    (-55.84, 15188.0]  \n",
       "2  Jan,Apr,Jul,Oct         10.126675     7  2015    (-55.84, 15188.0]  \n",
       "3                0          9.342457     7  2015    (-55.84, 15188.0]  \n",
       "4                0          8.626118     7  2015   (15188.0, 30356.0]  \n",
       "\n",
       "[5 rows x 22 columns]"
      ]
     },
     "execution_count": 69,
     "metadata": {},
     "output_type": "execute_result"
    }
   ],
   "source": [
    "df_train_store.head()"
   ]
  },
  {
   "cell_type": "code",
   "execution_count": 70,
   "id": "aeea4026",
   "metadata": {},
   "outputs": [
    {
     "data": {
      "text/plain": [
       "(CompetitionDist_Cat\n",
       " (-55.84, 15188.0]     6957.360876\n",
       " (15188.0, 30356.0]    7041.604692\n",
       " (30356.0, 45524.0]    6471.923562\n",
       " (45524.0, 60692.0]    5980.114445\n",
       " (60692.0, 75860.0]    7775.446449\n",
       " Name: Sales, dtype: float64,\n",
       " CompetitionDist_Cat\n",
       " (-55.84, 15188.0]     771.345223\n",
       " (15188.0, 30356.0]    691.574605\n",
       " (30356.0, 45524.0]    680.101854\n",
       " (45524.0, 60692.0]    643.988246\n",
       " (60692.0, 75860.0]    914.574972\n",
       " Name: Customers, dtype: float64)"
      ]
     },
     "execution_count": 70,
     "metadata": {},
     "output_type": "execute_result"
    }
   ],
   "source": [
    "df_train_store.groupby(by=\"CompetitionDist_Cat\").Sales.mean(),df_train_store.groupby(by=\"CompetitionDist_Cat\").Customers.mean()"
   ]
  },
  {
   "cell_type": "markdown",
   "id": "acb92194",
   "metadata": {},
   "source": [
    "#### Findings:\n",
    "    * the stores that are the furthest have the highest average sales and number of customers.it does shed light on the fact that when there are no competition nearby, stores tend to sell more and have more customers because there are almost a monopoly in this region.\n",
    "    "
   ]
  },
  {
   "cell_type": "code",
   "execution_count": 71,
   "id": "abcde423",
   "metadata": {},
   "outputs": [],
   "source": [
    "has_open_competition_df = df_train_store[df_train_store['CompetitionOpenSinceMonth'].notnull()]\n",
    "\n",
    "has_open_competition_df[\"CompetitionOpenSinceYear\"] = has_open_competition_df[\"CompetitionOpenSinceYear\"].astype(\"int\").astype(\"str\")\n",
    "has_open_competition_df[\"CompetitionOpenSinceMonth\"] = has_open_competition_df[\"CompetitionOpenSinceMonth\"].astype(\"int\").astype(\"str\")\n",
    "\n",
    "has_open_competition_df[\"CompetitionOpenSinceDate\"] = has_open_competition_df[\"CompetitionOpenSinceYear\"] + \"-\" + has_open_competition_df[\"CompetitionOpenSinceMonth\"] + \"-\" + \"01\" \n",
    "has_open_competition_df[\"CompetitionOpenSinceDate\"] =  pd.to_datetime(has_open_competition_df[\"CompetitionOpenSinceDate\"],errors='coerce')\n",
    "\n",
    "competition_df = has_open_competition_df[[\"Date\", \"Sales\", \"Store\", \"CompetitionOpenSinceDate\"]]\n",
    "\n",
    "\n",
    "competition_df[\"BeforeCompetition\"] = competition_df[\"Date\"] < competition_df[\"CompetitionOpenSinceDate\"]\n",
    "\n",
    "competition_df_agg = competition_df.groupby(\"BeforeCompetition\").agg({\"Sales\": \"mean\"})\n"
   ]
  },
  {
   "cell_type": "code",
   "execution_count": 72,
   "id": "d56bed62",
   "metadata": {},
   "outputs": [
    {
     "data": {
      "image/png": "[encoded data removed]",
      "text/plain": [
       "<Figure size 648x504 with 1 Axes>"
      ]
     },
     "metadata": {
      "needs_background": "light"
     },
     "output_type": "display_data"
    }
   ],
   "source": [
    "x_col = []\n",
    "for val in competition_df_agg.index.to_list():\n",
    "    if (val):\n",
    "        x_col.append(\"Before\")\n",
    "    else:\n",
    "        x_col.append(\"After\")\n",
    "\n",
    "plot_bar(competition_df_agg, x_col,\n",
    "               \"Sales\", \"Before competition vs After Competition\",\n",
    "               \"Before or After \", \"Sales\")"
   ]
  },
  {
   "cell_type": "code",
   "execution_count": 73,
   "id": "1e4dd616",
   "metadata": {},
   "outputs": [
    {
     "name": "stdout",
     "output_type": "stream",
     "text": [
      "Overall avg sales before competition and after competition\n"
     ]
    },
    {
     "data": {
      "text/html": [
       "<div>\n",
       "<style scoped>\n",
       "    .dataframe tbody tr th:only-of-type {\n",
       "        vertical-align: middle;\n",
       "    }\n",
       "\n",
       "    .dataframe tbody tr th {\n",
       "        vertical-align: top;\n",
       "    }\n",
       "\n",
       "    .dataframe thead th {\n",
       "        text-align: right;\n",
       "    }\n",
       "</style>\n",
       "<table border=\"1\" class=\"dataframe\">\n",
       "  <thead>\n",
       "    <tr style=\"text-align: right;\">\n",
       "      <th></th>\n",
       "      <th>Sales</th>\n",
       "    </tr>\n",
       "    <tr>\n",
       "      <th>BeforeCompetition</th>\n",
       "      <th></th>\n",
       "    </tr>\n",
       "  </thead>\n",
       "  <tbody>\n",
       "    <tr>\n",
       "      <th>False</th>\n",
       "      <td>6932.414133</td>\n",
       "    </tr>\n",
       "    <tr>\n",
       "      <th>True</th>\n",
       "      <td>7216.004080</td>\n",
       "    </tr>\n",
       "  </tbody>\n",
       "</table>\n",
       "</div>"
      ],
      "text/plain": [
       "                         Sales\n",
       "BeforeCompetition             \n",
       "False              6932.414133\n",
       "True               7216.004080"
      ]
     },
     "metadata": {},
     "output_type": "display_data"
    },
    {
     "name": "stdout",
     "output_type": "stream",
     "text": [
      "Overall avg sales decreased after competition by 3.930%\n"
     ]
    }
   ],
   "source": [
    "print(\"Overall avg sales before competition and after competition\")\n",
    "display(competition_df_agg)\n",
    "\n",
    "decrease = competition_df_agg[\"Sales\"][True] - competition_df_agg[\"Sales\"][False]\n",
    "decrease_percent = decrease / competition_df_agg[\"Sales\"][True]\n",
    "\n",
    "print(f\"Overall avg sales decreased after competition by {decrease_percent * 100:.3f}%\")\n"
   ]
  }
 ],
 "metadata": {
  "kernelspec": {
   "display_name": "Python 3",
   "language": "python",
   "name": "python3"
  },
  "language_info": {
   "codemirror_mode": {
    "name": "ipython",
    "version": 3
   },
   "file_extension": ".py",
   "mimetype": "text/x-python",
   "name": "python",
   "nbconvert_exporter": "python",
   "pygments_lexer": "ipython3",
   "version": "3.8.3"
  }
 },
 "nbformat": 4,
 "nbformat_minor": 5
}
